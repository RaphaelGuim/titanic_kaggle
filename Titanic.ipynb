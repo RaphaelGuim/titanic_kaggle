{
 "cells": [
  {
   "cell_type": "code",
   "execution_count": 1,
   "metadata": {},
   "outputs": [],
   "source": [
    "import numpy as np \n",
    "import pandas as pd\n",
    "import matplotlib.pyplot as plt\n",
    "import seaborn as sns\n",
    "plt.style.use('fivethirtyeight')\n",
    "import warnings\n",
    "warnings.filterwarnings('ignore')\n",
    "%matplotlib inline"
   ]
  },
  {
   "cell_type": "code",
   "execution_count": 2,
   "metadata": {},
   "outputs": [],
   "source": [
    "data = pd.read_csv('../Titanic/train.csv')\n",
    "test = pd.read_csv('../Titanic/test.csv')\n",
    "asw = pd.read_csv('../Titanic/complete.csv')\n",
    "asw.columns = ['Pclass', 'Survived', 'Name', 'Sex', 'Age', 'SibSp', 'Parch', 'Ticket',\n",
    "       'Fare', 'Cabin', 'Embarked', 'boat', 'body', 'home.dest']"
   ]
  },
  {
   "cell_type": "markdown",
   "metadata": {},
   "source": [
    "**Verificando Valores nulos**"
   ]
  },
  {
   "cell_type": "code",
   "execution_count": 3,
   "metadata": {},
   "outputs": [
    {
     "data": {
      "text/plain": [
       "PassengerId      0\n",
       "Survived         0\n",
       "Pclass           0\n",
       "Name             0\n",
       "Sex              0\n",
       "Age            177\n",
       "SibSp            0\n",
       "Parch            0\n",
       "Ticket           0\n",
       "Fare             0\n",
       "Cabin          687\n",
       "Embarked         2\n",
       "dtype: int64"
      ]
     },
     "execution_count": 3,
     "metadata": {},
     "output_type": "execute_result"
    }
   ],
   "source": [
    "data.isnull().sum()"
   ]
  },
  {
   "cell_type": "code",
   "execution_count": 4,
   "metadata": {},
   "outputs": [
    {
     "data": {
      "text/plain": [
       "PassengerId      0\n",
       "Pclass           0\n",
       "Name             0\n",
       "Sex              0\n",
       "Age             86\n",
       "SibSp            0\n",
       "Parch            0\n",
       "Ticket           0\n",
       "Fare             1\n",
       "Cabin          327\n",
       "Embarked         0\n",
       "dtype: int64"
      ]
     },
     "execution_count": 4,
     "metadata": {},
     "output_type": "execute_result"
    }
   ],
   "source": [
    "test.isnull().sum()"
   ]
  },
  {
   "cell_type": "markdown",
   "metadata": {},
   "source": [
    "**Extraindo Iniciais dos Nomes para fazer inferência da Idade**"
   ]
  },
  {
   "cell_type": "code",
   "execution_count": 5,
   "metadata": {},
   "outputs": [],
   "source": [
    "tables = [data,asw,test]\n",
    "def abstract_initials(data):\n",
    "    data['Initial']=0\n",
    "    for i in data:\n",
    "        data['Initial']=data.Name.str.extract('([A-Za-z]+)\\.')\n",
    "    return data\n",
    "\n",
    "tables = [abstract_initials(t) for t in tables] "
   ]
  },
  {
   "cell_type": "code",
   "execution_count": 6,
   "metadata": {},
   "outputs": [
    {
     "data": {
      "text/html": [
       "<style  type=\"text/css\" >\n",
       "#T_cf127_row0_col0,#T_cf127_row0_col1,#T_cf127_row0_col3,#T_cf127_row0_col4,#T_cf127_row0_col5,#T_cf127_row0_col7,#T_cf127_row0_col8,#T_cf127_row0_col12,#T_cf127_row0_col15,#T_cf127_row0_col16,#T_cf127_row1_col2,#T_cf127_row1_col6,#T_cf127_row1_col9,#T_cf127_row1_col10,#T_cf127_row1_col11,#T_cf127_row1_col13,#T_cf127_row1_col14{\n",
       "            background-color:  #ffff66;\n",
       "            color:  #000000;\n",
       "        }#T_cf127_row0_col2,#T_cf127_row0_col6,#T_cf127_row0_col9,#T_cf127_row0_col10,#T_cf127_row0_col11,#T_cf127_row0_col13,#T_cf127_row0_col14,#T_cf127_row1_col0,#T_cf127_row1_col1,#T_cf127_row1_col3,#T_cf127_row1_col4,#T_cf127_row1_col5,#T_cf127_row1_col7,#T_cf127_row1_col8,#T_cf127_row1_col12,#T_cf127_row1_col15,#T_cf127_row1_col16{\n",
       "            background-color:  #008066;\n",
       "            color:  #f1f1f1;\n",
       "        }</style><table id=\"T_cf127_\" ><thead>    <tr>        <th class=\"index_name level0\" >Initial</th>        <th class=\"col_heading level0 col0\" >Capt</th>        <th class=\"col_heading level0 col1\" >Col</th>        <th class=\"col_heading level0 col2\" >Countess</th>        <th class=\"col_heading level0 col3\" >Don</th>        <th class=\"col_heading level0 col4\" >Dr</th>        <th class=\"col_heading level0 col5\" >Jonkheer</th>        <th class=\"col_heading level0 col6\" >Lady</th>        <th class=\"col_heading level0 col7\" >Major</th>        <th class=\"col_heading level0 col8\" >Master</th>        <th class=\"col_heading level0 col9\" >Miss</th>        <th class=\"col_heading level0 col10\" >Mlle</th>        <th class=\"col_heading level0 col11\" >Mme</th>        <th class=\"col_heading level0 col12\" >Mr</th>        <th class=\"col_heading level0 col13\" >Mrs</th>        <th class=\"col_heading level0 col14\" >Ms</th>        <th class=\"col_heading level0 col15\" >Rev</th>        <th class=\"col_heading level0 col16\" >Sir</th>    </tr>    <tr>        <th class=\"index_name level0\" >Sex</th>        <th class=\"blank\" ></th>        <th class=\"blank\" ></th>        <th class=\"blank\" ></th>        <th class=\"blank\" ></th>        <th class=\"blank\" ></th>        <th class=\"blank\" ></th>        <th class=\"blank\" ></th>        <th class=\"blank\" ></th>        <th class=\"blank\" ></th>        <th class=\"blank\" ></th>        <th class=\"blank\" ></th>        <th class=\"blank\" ></th>        <th class=\"blank\" ></th>        <th class=\"blank\" ></th>        <th class=\"blank\" ></th>        <th class=\"blank\" ></th>        <th class=\"blank\" ></th>    </tr></thead><tbody>\n",
       "                <tr>\n",
       "                        <th id=\"T_cf127_level0_row0\" class=\"row_heading level0 row0\" >female</th>\n",
       "                        <td id=\"T_cf127_row0_col0\" class=\"data row0 col0\" >0</td>\n",
       "                        <td id=\"T_cf127_row0_col1\" class=\"data row0 col1\" >0</td>\n",
       "                        <td id=\"T_cf127_row0_col2\" class=\"data row0 col2\" >1</td>\n",
       "                        <td id=\"T_cf127_row0_col3\" class=\"data row0 col3\" >0</td>\n",
       "                        <td id=\"T_cf127_row0_col4\" class=\"data row0 col4\" >1</td>\n",
       "                        <td id=\"T_cf127_row0_col5\" class=\"data row0 col5\" >0</td>\n",
       "                        <td id=\"T_cf127_row0_col6\" class=\"data row0 col6\" >1</td>\n",
       "                        <td id=\"T_cf127_row0_col7\" class=\"data row0 col7\" >0</td>\n",
       "                        <td id=\"T_cf127_row0_col8\" class=\"data row0 col8\" >0</td>\n",
       "                        <td id=\"T_cf127_row0_col9\" class=\"data row0 col9\" >182</td>\n",
       "                        <td id=\"T_cf127_row0_col10\" class=\"data row0 col10\" >2</td>\n",
       "                        <td id=\"T_cf127_row0_col11\" class=\"data row0 col11\" >1</td>\n",
       "                        <td id=\"T_cf127_row0_col12\" class=\"data row0 col12\" >0</td>\n",
       "                        <td id=\"T_cf127_row0_col13\" class=\"data row0 col13\" >125</td>\n",
       "                        <td id=\"T_cf127_row0_col14\" class=\"data row0 col14\" >1</td>\n",
       "                        <td id=\"T_cf127_row0_col15\" class=\"data row0 col15\" >0</td>\n",
       "                        <td id=\"T_cf127_row0_col16\" class=\"data row0 col16\" >0</td>\n",
       "            </tr>\n",
       "            <tr>\n",
       "                        <th id=\"T_cf127_level0_row1\" class=\"row_heading level0 row1\" >male</th>\n",
       "                        <td id=\"T_cf127_row1_col0\" class=\"data row1 col0\" >1</td>\n",
       "                        <td id=\"T_cf127_row1_col1\" class=\"data row1 col1\" >2</td>\n",
       "                        <td id=\"T_cf127_row1_col2\" class=\"data row1 col2\" >0</td>\n",
       "                        <td id=\"T_cf127_row1_col3\" class=\"data row1 col3\" >1</td>\n",
       "                        <td id=\"T_cf127_row1_col4\" class=\"data row1 col4\" >6</td>\n",
       "                        <td id=\"T_cf127_row1_col5\" class=\"data row1 col5\" >1</td>\n",
       "                        <td id=\"T_cf127_row1_col6\" class=\"data row1 col6\" >0</td>\n",
       "                        <td id=\"T_cf127_row1_col7\" class=\"data row1 col7\" >2</td>\n",
       "                        <td id=\"T_cf127_row1_col8\" class=\"data row1 col8\" >40</td>\n",
       "                        <td id=\"T_cf127_row1_col9\" class=\"data row1 col9\" >0</td>\n",
       "                        <td id=\"T_cf127_row1_col10\" class=\"data row1 col10\" >0</td>\n",
       "                        <td id=\"T_cf127_row1_col11\" class=\"data row1 col11\" >0</td>\n",
       "                        <td id=\"T_cf127_row1_col12\" class=\"data row1 col12\" >517</td>\n",
       "                        <td id=\"T_cf127_row1_col13\" class=\"data row1 col13\" >0</td>\n",
       "                        <td id=\"T_cf127_row1_col14\" class=\"data row1 col14\" >0</td>\n",
       "                        <td id=\"T_cf127_row1_col15\" class=\"data row1 col15\" >6</td>\n",
       "                        <td id=\"T_cf127_row1_col16\" class=\"data row1 col16\" >1</td>\n",
       "            </tr>\n",
       "    </tbody></table>"
      ],
      "text/plain": [
       "<pandas.io.formats.style.Styler at 0x7f096c66ccd0>"
      ]
     },
     "execution_count": 6,
     "metadata": {},
     "output_type": "execute_result"
    }
   ],
   "source": [
    "pd.crosstab(tables[0].Initial,tables[0].Sex).T.style.background_gradient(cmap='summer_r') "
   ]
  },
  {
   "cell_type": "markdown",
   "metadata": {},
   "source": [
    "**Agrupando os títulos**"
   ]
  },
  {
   "cell_type": "code",
   "execution_count": 7,
   "metadata": {},
   "outputs": [],
   "source": [
    "titles = ['Mlle','Mme','Ms','Dr','Major','Lady','Countess','Jonkheer','Col','Rev','Capt','Sir','Don','Dona']\n",
    "replace = ['Miss','Miss','Miss','Mr','Mr','Mrs','Mrs','Other','Other','Other','Mr','Mr','Mr','Miss']"
   ]
  },
  {
   "cell_type": "code",
   "execution_count": 8,
   "metadata": {},
   "outputs": [
    {
     "data": {
      "text/plain": [
       "[None, None, None]"
      ]
     },
     "execution_count": 8,
     "metadata": {},
     "output_type": "execute_result"
    }
   ],
   "source": [
    "[t['Initial'].replace(titles,replace,inplace=True) for t in tables] "
   ]
  },
  {
   "cell_type": "markdown",
   "metadata": {},
   "source": [
    "**Atribuindo idade através do título**"
   ]
  },
  {
   "cell_type": "code",
   "execution_count": 9,
   "metadata": {},
   "outputs": [],
   "source": [
    "def age_from_title(data):\n",
    "    mean_ages = data.groupby('Initial')['Age'].mean()\n",
    "    null_ages = data.Age.isnull()\n",
    "    initials = data['Initial'].unique()\n",
    "    for ini in initials:    \n",
    "        data.loc[ ( null_ages ) & ( data.Initial == ini ), \"Age\" ] = round(mean_ages[ini])\n",
    "    return data                                                                      "
   ]
  },
  {
   "cell_type": "code",
   "execution_count": 10,
   "metadata": {},
   "outputs": [],
   "source": [
    "tables = [age_from_title(t) for t in tables]"
   ]
  },
  {
   "cell_type": "markdown",
   "metadata": {},
   "source": [
    "**Verificando se todos os passageiro receberam valor da idade**"
   ]
  },
  {
   "cell_type": "code",
   "execution_count": 11,
   "metadata": {},
   "outputs": [
    {
     "data": {
      "text/plain": [
       "[False, False, False]"
      ]
     },
     "execution_count": 11,
     "metadata": {},
     "output_type": "execute_result"
    }
   ],
   "source": [
    "[t.Age.isnull().any() for t in tables]"
   ]
  },
  {
   "cell_type": "markdown",
   "metadata": {},
   "source": [
    "**Imputando valores para as entradas sem dado de Porto de Embarque**"
   ]
  },
  {
   "cell_type": "code",
   "execution_count": 12,
   "metadata": {},
   "outputs": [
    {
     "data": {
      "text/plain": [
       "Embarked\n",
       "C    168\n",
       "Q     77\n",
       "S    644\n",
       "Name: Embarked, dtype: int64"
      ]
     },
     "execution_count": 12,
     "metadata": {},
     "output_type": "execute_result"
    }
   ],
   "source": [
    "data.groupby(['Embarked'])['Embarked'].count()"
   ]
  },
  {
   "cell_type": "code",
   "execution_count": 13,
   "metadata": {},
   "outputs": [
    {
     "data": {
      "text/plain": [
       "Embarked\n",
       "C    102\n",
       "Q     46\n",
       "S    270\n",
       "Name: Embarked, dtype: int64"
      ]
     },
     "execution_count": 13,
     "metadata": {},
     "output_type": "execute_result"
    }
   ],
   "source": [
    "test.groupby(['Embarked'])['Embarked'].count()"
   ]
  },
  {
   "cell_type": "code",
   "execution_count": 14,
   "metadata": {},
   "outputs": [],
   "source": [
    "for t in tables:\n",
    "    t.loc[t[\"Embarked\"].isna(),\"Embarked\"] = 'S'"
   ]
  },
  {
   "cell_type": "code",
   "execution_count": 15,
   "metadata": {},
   "outputs": [
    {
     "data": {
      "text/plain": [
       "[False, False, False]"
      ]
     },
     "execution_count": 15,
     "metadata": {},
     "output_type": "execute_result"
    }
   ],
   "source": [
    "[t.Embarked.isnull().any() for t in tables]"
   ]
  },
  {
   "cell_type": "code",
   "execution_count": 16,
   "metadata": {},
   "outputs": [
    {
     "data": {
      "image/png": "[encoded data removed]",
      "text/plain": [
       "<Figure size 1296x576 with 1 Axes>"
      ]
     },
     "metadata": {},
     "output_type": "display_data"
    }
   ],
   "source": [
    "f,ax=plt.subplots(1,1,figsize=(18,8))\n",
    "data['Survived'].value_counts().plot.pie(autopct='%1.1f%%',ax=ax,shadow=True,colors=['red','blue'])\n",
    "ax.set_title('Taxa de Sobrevivência')\n",
    "ax.set_ylabel('')\n",
    "plt.show()"
   ]
  },
  {
   "cell_type": "code",
   "execution_count": 17,
   "metadata": {},
   "outputs": [
    {
     "data": {
      "text/plain": [
       "Sex     Survived\n",
       "female  0            81\n",
       "        1           233\n",
       "male    0           468\n",
       "        1           109\n",
       "Name: Survived, dtype: int64"
      ]
     },
     "execution_count": 17,
     "metadata": {},
     "output_type": "execute_result"
    }
   ],
   "source": [
    "tables[0].groupby(['Sex','Survived'])['Survived'].count()"
   ]
  },
  {
   "cell_type": "code",
   "execution_count": 18,
   "metadata": {},
   "outputs": [
    {
     "data": {
      "image/png": "[encoded data removed]",
      "text/plain": [
       "<Figure size 1296x576 with 1 Axes>"
      ]
     },
     "metadata": {
      "needs_background": "light"
     },
     "output_type": "display_data"
    }
   ],
   "source": [
    "f,ax=plt.subplots(1,1,figsize=(18,8))\n",
    "ax.set_title('Survived vs Sex')\n",
    "sns.countplot('Sex',hue='Survived',data=data,ax=ax,palette=['red','blue'])\n",
    "ax.set_title('Sex:Survived vs Dead')\n",
    "plt.show()"
   ]
  },
  {
   "cell_type": "markdown",
   "metadata": {},
   "source": [
    "**Sobreviventes por Classe**"
   ]
  },
  {
   "cell_type": "code",
   "execution_count": 19,
   "metadata": {},
   "outputs": [
    {
     "data": {
      "text/html": [
       "<style  type=\"text/css\" >\n",
       "#T_4bf8c_row0_col0,#T_4bf8c_row1_col1,#T_4bf8c_row1_col2{\n",
       "            background-color:  #ffff66;\n",
       "            color:  #000000;\n",
       "        }#T_4bf8c_row0_col1{\n",
       "            background-color:  #cee666;\n",
       "            color:  #000000;\n",
       "        }#T_4bf8c_row0_col2{\n",
       "            background-color:  #f4fa66;\n",
       "            color:  #000000;\n",
       "        }#T_4bf8c_row1_col0{\n",
       "            background-color:  #f6fa66;\n",
       "            color:  #000000;\n",
       "        }#T_4bf8c_row2_col0{\n",
       "            background-color:  #60b066;\n",
       "            color:  #000000;\n",
       "        }#T_4bf8c_row2_col1{\n",
       "            background-color:  #dfef66;\n",
       "            color:  #000000;\n",
       "        }#T_4bf8c_row2_col2{\n",
       "            background-color:  #90c866;\n",
       "            color:  #000000;\n",
       "        }#T_4bf8c_row3_col0,#T_4bf8c_row3_col1,#T_4bf8c_row3_col2{\n",
       "            background-color:  #008066;\n",
       "            color:  #f1f1f1;\n",
       "        }</style><table id=\"T_4bf8c_\" ><thead>    <tr>        <th class=\"index_name level0\" >Survived</th>        <th class=\"col_heading level0 col0\" >0</th>        <th class=\"col_heading level0 col1\" >1</th>        <th class=\"col_heading level0 col2\" >All</th>    </tr>    <tr>        <th class=\"index_name level0\" >Pclass</th>        <th class=\"blank\" ></th>        <th class=\"blank\" ></th>        <th class=\"blank\" ></th>    </tr></thead><tbody>\n",
       "                <tr>\n",
       "                        <th id=\"T_4bf8c_level0_row0\" class=\"row_heading level0 row0\" >1</th>\n",
       "                        <td id=\"T_4bf8c_row0_col0\" class=\"data row0 col0\" >80</td>\n",
       "                        <td id=\"T_4bf8c_row0_col1\" class=\"data row0 col1\" >136</td>\n",
       "                        <td id=\"T_4bf8c_row0_col2\" class=\"data row0 col2\" >216</td>\n",
       "            </tr>\n",
       "            <tr>\n",
       "                        <th id=\"T_4bf8c_level0_row1\" class=\"row_heading level0 row1\" >2</th>\n",
       "                        <td id=\"T_4bf8c_row1_col0\" class=\"data row1 col0\" >97</td>\n",
       "                        <td id=\"T_4bf8c_row1_col1\" class=\"data row1 col1\" >87</td>\n",
       "                        <td id=\"T_4bf8c_row1_col2\" class=\"data row1 col2\" >184</td>\n",
       "            </tr>\n",
       "            <tr>\n",
       "                        <th id=\"T_4bf8c_level0_row2\" class=\"row_heading level0 row2\" >3</th>\n",
       "                        <td id=\"T_4bf8c_row2_col0\" class=\"data row2 col0\" >372</td>\n",
       "                        <td id=\"T_4bf8c_row2_col1\" class=\"data row2 col1\" >119</td>\n",
       "                        <td id=\"T_4bf8c_row2_col2\" class=\"data row2 col2\" >491</td>\n",
       "            </tr>\n",
       "            <tr>\n",
       "                        <th id=\"T_4bf8c_level0_row3\" class=\"row_heading level0 row3\" >All</th>\n",
       "                        <td id=\"T_4bf8c_row3_col0\" class=\"data row3 col0\" >549</td>\n",
       "                        <td id=\"T_4bf8c_row3_col1\" class=\"data row3 col1\" >342</td>\n",
       "                        <td id=\"T_4bf8c_row3_col2\" class=\"data row3 col2\" >891</td>\n",
       "            </tr>\n",
       "    </tbody></table>"
      ],
      "text/plain": [
       "<pandas.io.formats.style.Styler at 0x7f093e39a370>"
      ]
     },
     "execution_count": 19,
     "metadata": {},
     "output_type": "execute_result"
    }
   ],
   "source": [
    "pd.crosstab(tables[0].Pclass,tables[0].Survived,margins=True).style.background_gradient(cmap='summer_r')"
   ]
  },
  {
   "cell_type": "code",
   "execution_count": 20,
   "metadata": {},
   "outputs": [
    {
     "data": {
      "image/png": "[encoded data removed]",
      "text/plain": [
       "<Figure size 1296x576 with 2 Axes>"
      ]
     },
     "metadata": {
      "needs_background": "light"
     },
     "output_type": "display_data"
    }
   ],
   "source": [
    "f,ax=plt.subplots(1,2,figsize=(18,8))\n",
    "data['Pclass'].value_counts().plot.bar(color=['#CD7F32','#FFDF00','#D3D3D3'],ax=ax[0])\n",
    "ax[0].set_title('Número de Passageiros por Classe')\n",
    "ax[0].set_ylabel('Count')\n",
    "sns.countplot('Pclass',hue='Survived',data=data,ax=ax[1])\n",
    "ax[1].set_title('Classe vs Sobreviventes')\n",
    "ax[1].set_xlabel(\"Classe\")\n",
    "plt.show()"
   ]
  },
  {
   "cell_type": "code",
   "execution_count": 21,
   "metadata": {},
   "outputs": [
    {
     "data": {
      "text/html": [
       "<style  type=\"text/css\" >\n",
       "#T_a074b_row0_col0,#T_a074b_row0_col1,#T_a074b_row0_col3,#T_a074b_row3_col2{\n",
       "            background-color:  #ffff66;\n",
       "            color:  #000000;\n",
       "        }#T_a074b_row0_col2,#T_a074b_row1_col2{\n",
       "            background-color:  #f1f866;\n",
       "            color:  #000000;\n",
       "        }#T_a074b_row1_col0{\n",
       "            background-color:  #96cb66;\n",
       "            color:  #000000;\n",
       "        }#T_a074b_row1_col1{\n",
       "            background-color:  #a3d166;\n",
       "            color:  #000000;\n",
       "        }#T_a074b_row1_col3{\n",
       "            background-color:  #cfe766;\n",
       "            color:  #000000;\n",
       "        }#T_a074b_row2_col0{\n",
       "            background-color:  #a7d366;\n",
       "            color:  #000000;\n",
       "        }#T_a074b_row2_col1,#T_a074b_row2_col3{\n",
       "            background-color:  #85c266;\n",
       "            color:  #000000;\n",
       "        }#T_a074b_row2_col2{\n",
       "            background-color:  #6eb666;\n",
       "            color:  #000000;\n",
       "        }#T_a074b_row3_col0{\n",
       "            background-color:  #cde666;\n",
       "            color:  #000000;\n",
       "        }#T_a074b_row3_col1{\n",
       "            background-color:  #f0f866;\n",
       "            color:  #000000;\n",
       "        }#T_a074b_row3_col3{\n",
       "            background-color:  #f7fb66;\n",
       "            color:  #000000;\n",
       "        }#T_a074b_row4_col0,#T_a074b_row4_col1,#T_a074b_row4_col2,#T_a074b_row4_col3{\n",
       "            background-color:  #008066;\n",
       "            color:  #f1f1f1;\n",
       "        }</style><table id=\"T_a074b_\" ><thead>    <tr>        <th class=\"blank\" ></th>        <th class=\"index_name level0\" >Pclass</th>        <th class=\"col_heading level0 col0\" >1</th>        <th class=\"col_heading level0 col1\" >2</th>        <th class=\"col_heading level0 col2\" >3</th>        <th class=\"col_heading level0 col3\" >All</th>    </tr>    <tr>        <th class=\"index_name level0\" >Sex</th>        <th class=\"index_name level1\" >Survived</th>        <th class=\"blank\" ></th>        <th class=\"blank\" ></th>        <th class=\"blank\" ></th>        <th class=\"blank\" ></th>    </tr></thead><tbody>\n",
       "                <tr>\n",
       "                        <th id=\"T_a074b_level0_row0\" class=\"row_heading level0 row0\" rowspan=\"2\">female</th>\n",
       "                        <th id=\"T_a074b_level1_row0\" class=\"row_heading level1 row0\" >0</th>\n",
       "                        <td id=\"T_a074b_row0_col0\" class=\"data row0 col0\" >3</td>\n",
       "                        <td id=\"T_a074b_row0_col1\" class=\"data row0 col1\" >6</td>\n",
       "                        <td id=\"T_a074b_row0_col2\" class=\"data row0 col2\" >72</td>\n",
       "                        <td id=\"T_a074b_row0_col3\" class=\"data row0 col3\" >81</td>\n",
       "            </tr>\n",
       "            <tr>\n",
       "                                <th id=\"T_a074b_level1_row1\" class=\"row_heading level1 row1\" >1</th>\n",
       "                        <td id=\"T_a074b_row1_col0\" class=\"data row1 col0\" >91</td>\n",
       "                        <td id=\"T_a074b_row1_col1\" class=\"data row1 col1\" >70</td>\n",
       "                        <td id=\"T_a074b_row1_col2\" class=\"data row1 col2\" >72</td>\n",
       "                        <td id=\"T_a074b_row1_col3\" class=\"data row1 col3\" >233</td>\n",
       "            </tr>\n",
       "            <tr>\n",
       "                        <th id=\"T_a074b_level0_row2\" class=\"row_heading level0 row2\" rowspan=\"2\">male</th>\n",
       "                        <th id=\"T_a074b_level1_row2\" class=\"row_heading level1 row2\" >0</th>\n",
       "                        <td id=\"T_a074b_row2_col0\" class=\"data row2 col0\" >77</td>\n",
       "                        <td id=\"T_a074b_row2_col1\" class=\"data row2 col1\" >91</td>\n",
       "                        <td id=\"T_a074b_row2_col2\" class=\"data row2 col2\" >300</td>\n",
       "                        <td id=\"T_a074b_row2_col3\" class=\"data row2 col3\" >468</td>\n",
       "            </tr>\n",
       "            <tr>\n",
       "                                <th id=\"T_a074b_level1_row3\" class=\"row_heading level1 row3\" >1</th>\n",
       "                        <td id=\"T_a074b_row3_col0\" class=\"data row3 col0\" >45</td>\n",
       "                        <td id=\"T_a074b_row3_col1\" class=\"data row3 col1\" >17</td>\n",
       "                        <td id=\"T_a074b_row3_col2\" class=\"data row3 col2\" >47</td>\n",
       "                        <td id=\"T_a074b_row3_col3\" class=\"data row3 col3\" >109</td>\n",
       "            </tr>\n",
       "            <tr>\n",
       "                        <th id=\"T_a074b_level0_row4\" class=\"row_heading level0 row4\" >All</th>\n",
       "                        <th id=\"T_a074b_level1_row4\" class=\"row_heading level1 row4\" ></th>\n",
       "                        <td id=\"T_a074b_row4_col0\" class=\"data row4 col0\" >216</td>\n",
       "                        <td id=\"T_a074b_row4_col1\" class=\"data row4 col1\" >184</td>\n",
       "                        <td id=\"T_a074b_row4_col2\" class=\"data row4 col2\" >491</td>\n",
       "                        <td id=\"T_a074b_row4_col3\" class=\"data row4 col3\" >891</td>\n",
       "            </tr>\n",
       "    </tbody></table>"
      ],
      "text/plain": [
       "<pandas.io.formats.style.Styler at 0x7f093dacf160>"
      ]
     },
     "execution_count": 21,
     "metadata": {},
     "output_type": "execute_result"
    }
   ],
   "source": [
    "pd.crosstab([tables[0].Sex,tables[0].Survived],[tables[0].Pclass],margins=True).style.background_gradient(cmap='summer_r')"
   ]
  },
  {
   "cell_type": "markdown",
   "metadata": {},
   "source": [
    "**Idade dos Passageiros**"
   ]
  },
  {
   "cell_type": "code",
   "execution_count": 22,
   "metadata": {},
   "outputs": [
    {
     "name": "stdout",
     "output_type": "stream",
     "text": [
      "Age Max: 80.0 Years\n",
      "Age Min: 0.42 Years\n",
      "Média  : 29.841941638608304 Years\n"
     ]
    }
   ],
   "source": [
    "print('Age Max:',data['Age'].max(),'Years')\n",
    "print('Age Min:',data['Age'].min(),'Years')\n",
    "print('Média  :',data['Age'].mean(),'Years')"
   ]
  },
  {
   "cell_type": "markdown",
   "metadata": {},
   "source": [
    "**Sobrevivencia por idade**"
   ]
  },
  {
   "cell_type": "code",
   "execution_count": 23,
   "metadata": {},
   "outputs": [
    {
     "data": {
      "image/png": "[encoded data removed]",
      "text/plain": [
       "<Figure size 1440x720 with 2 Axes>"
      ]
     },
     "metadata": {
      "needs_background": "light"
     },
     "output_type": "display_data"
    }
   ],
   "source": [
    "f,ax=plt.subplots(1,2,figsize=(20,10))\n",
    "data[data['Survived']==0].Age.plot.hist(ax=ax[0],bins=20,edgecolor='black',color='red')\n",
    "ax[0].set_title('Survived= 0')\n",
    "x1=list(range(0,85,5))\n",
    "ax[0].set_xticks(x1)\n",
    "data[data['Survived']==1].Age.plot.hist(ax=ax[1],color='green',bins=20,edgecolor='black')\n",
    "ax[1].set_title('Survived= 1')\n",
    "x2=list(range(0,85,5))\n",
    "ax[1].set_xticks(x2)\n",
    "plt.show()"
   ]
  },
  {
   "cell_type": "markdown",
   "metadata": {},
   "source": [
    "**Sobreviventes por Local de Embarque**"
   ]
  },
  {
   "cell_type": "code",
   "execution_count": 24,
   "metadata": {},
   "outputs": [
    {
     "data": {
      "text/html": [
       "<style  type=\"text/css\" >\n",
       "#T_8b63a_row0_col0,#T_8b63a_row1_col2{\n",
       "            background-color:  #fcfe66;\n",
       "            color:  #000000;\n",
       "        }#T_8b63a_row0_col1{\n",
       "            background-color:  #d2e866;\n",
       "            color:  #000000;\n",
       "        }#T_8b63a_row0_col2{\n",
       "            background-color:  #f2f866;\n",
       "            color:  #000000;\n",
       "        }#T_8b63a_row0_col3{\n",
       "            background-color:  #d8ec66;\n",
       "            color:  #000000;\n",
       "        }#T_8b63a_row0_col4,#T_8b63a_row2_col3{\n",
       "            background-color:  #e8f466;\n",
       "            color:  #000000;\n",
       "        }#T_8b63a_row1_col0,#T_8b63a_row3_col0,#T_8b63a_row3_col1,#T_8b63a_row3_col2,#T_8b63a_row3_col3,#T_8b63a_row3_col4,#T_8b63a_row4_col0,#T_8b63a_row4_col2,#T_8b63a_row4_col3,#T_8b63a_row4_col4{\n",
       "            background-color:  #ffff66;\n",
       "            color:  #000000;\n",
       "        }#T_8b63a_row1_col1,#T_8b63a_row6_col0{\n",
       "            background-color:  #f9fc66;\n",
       "            color:  #000000;\n",
       "        }#T_8b63a_row1_col3,#T_8b63a_row1_col4{\n",
       "            background-color:  #fbfd66;\n",
       "            color:  #000000;\n",
       "        }#T_8b63a_row2_col0,#T_8b63a_row5_col1{\n",
       "            background-color:  #e6f266;\n",
       "            color:  #000000;\n",
       "        }#T_8b63a_row2_col1{\n",
       "            background-color:  #f0f866;\n",
       "            color:  #000000;\n",
       "        }#T_8b63a_row2_col2{\n",
       "            background-color:  #eef666;\n",
       "            color:  #000000;\n",
       "        }#T_8b63a_row2_col4,#T_8b63a_row7_col0{\n",
       "            background-color:  #edf666;\n",
       "            color:  #000000;\n",
       "        }#T_8b63a_row4_col1{\n",
       "            background-color:  #fefe66;\n",
       "            color:  #000000;\n",
       "        }#T_8b63a_row5_col0{\n",
       "            background-color:  #e3f166;\n",
       "            color:  #000000;\n",
       "        }#T_8b63a_row5_col2{\n",
       "            background-color:  #ecf666;\n",
       "            color:  #000000;\n",
       "        }#T_8b63a_row5_col3{\n",
       "            background-color:  #f8fc66;\n",
       "            color:  #000000;\n",
       "        }#T_8b63a_row5_col4{\n",
       "            background-color:  #ebf566;\n",
       "            color:  #000000;\n",
       "        }#T_8b63a_row6_col1{\n",
       "            background-color:  #cce666;\n",
       "            color:  #000000;\n",
       "        }#T_8b63a_row6_col2{\n",
       "            background-color:  #e4f266;\n",
       "            color:  #000000;\n",
       "        }#T_8b63a_row6_col3{\n",
       "            background-color:  #bede66;\n",
       "            color:  #000000;\n",
       "        }#T_8b63a_row6_col4{\n",
       "            background-color:  #dbed66;\n",
       "            color:  #000000;\n",
       "        }#T_8b63a_row7_col1{\n",
       "            background-color:  #bdde66;\n",
       "            color:  #000000;\n",
       "        }#T_8b63a_row7_col2{\n",
       "            background-color:  #d3e966;\n",
       "            color:  #000000;\n",
       "        }#T_8b63a_row7_col3,#T_8b63a_row8_col1{\n",
       "            background-color:  #dcee66;\n",
       "            color:  #000000;\n",
       "        }#T_8b63a_row7_col4{\n",
       "            background-color:  #d1e866;\n",
       "            color:  #000000;\n",
       "        }#T_8b63a_row8_col0{\n",
       "            background-color:  #52a866;\n",
       "            color:  #000000;\n",
       "        }#T_8b63a_row8_col2{\n",
       "            background-color:  #81c066;\n",
       "            color:  #000000;\n",
       "        }#T_8b63a_row8_col3{\n",
       "            background-color:  #b0d866;\n",
       "            color:  #000000;\n",
       "        }#T_8b63a_row8_col4{\n",
       "            background-color:  #9acc66;\n",
       "            color:  #000000;\n",
       "        }#T_8b63a_row9_col0,#T_8b63a_row9_col1,#T_8b63a_row9_col2,#T_8b63a_row9_col3,#T_8b63a_row9_col4{\n",
       "            background-color:  #008066;\n",
       "            color:  #f1f1f1;\n",
       "        }</style><table id=\"T_8b63a_\" ><thead>    <tr>        <th class=\"blank\" ></th>        <th class=\"index_name level0\" >Sex</th>        <th class=\"col_heading level0 col0\" colspan=\"2\">female</th>        <th class=\"col_heading level0 col2\" colspan=\"2\">male</th>        <th class=\"col_heading level0 col4\" >All</th>    </tr>    <tr>        <th class=\"blank\" ></th>        <th class=\"index_name level1\" >Survived</th>        <th class=\"col_heading level1 col0\" >0</th>        <th class=\"col_heading level1 col1\" >1</th>        <th class=\"col_heading level1 col2\" >0</th>        <th class=\"col_heading level1 col3\" >1</th>        <th class=\"col_heading level1 col4\" ></th>    </tr>    <tr>        <th class=\"index_name level0\" >Embarked</th>        <th class=\"index_name level1\" >Pclass</th>        <th class=\"blank\" ></th>        <th class=\"blank\" ></th>        <th class=\"blank\" ></th>        <th class=\"blank\" ></th>        <th class=\"blank\" ></th>    </tr></thead><tbody>\n",
       "                <tr>\n",
       "                        <th id=\"T_8b63a_level0_row0\" class=\"row_heading level0 row0\" rowspan=\"3\">C</th>\n",
       "                        <th id=\"T_8b63a_level1_row0\" class=\"row_heading level1 row0\" >1</th>\n",
       "                        <td id=\"T_8b63a_row0_col0\" class=\"data row0 col0\" >1</td>\n",
       "                        <td id=\"T_8b63a_row0_col1\" class=\"data row0 col1\" >42</td>\n",
       "                        <td id=\"T_8b63a_row0_col2\" class=\"data row0 col2\" >25</td>\n",
       "                        <td id=\"T_8b63a_row0_col3\" class=\"data row0 col3\" >17</td>\n",
       "                        <td id=\"T_8b63a_row0_col4\" class=\"data row0 col4\" >85</td>\n",
       "            </tr>\n",
       "            <tr>\n",
       "                                <th id=\"T_8b63a_level1_row1\" class=\"row_heading level1 row1\" >2</th>\n",
       "                        <td id=\"T_8b63a_row1_col0\" class=\"data row1 col0\" >0</td>\n",
       "                        <td id=\"T_8b63a_row1_col1\" class=\"data row1 col1\" >7</td>\n",
       "                        <td id=\"T_8b63a_row1_col2\" class=\"data row1 col2\" >8</td>\n",
       "                        <td id=\"T_8b63a_row1_col3\" class=\"data row1 col3\" >2</td>\n",
       "                        <td id=\"T_8b63a_row1_col4\" class=\"data row1 col4\" >17</td>\n",
       "            </tr>\n",
       "            <tr>\n",
       "                                <th id=\"T_8b63a_level1_row2\" class=\"row_heading level1 row2\" >3</th>\n",
       "                        <td id=\"T_8b63a_row2_col0\" class=\"data row2 col0\" >8</td>\n",
       "                        <td id=\"T_8b63a_row2_col1\" class=\"data row2 col1\" >15</td>\n",
       "                        <td id=\"T_8b63a_row2_col2\" class=\"data row2 col2\" >33</td>\n",
       "                        <td id=\"T_8b63a_row2_col3\" class=\"data row2 col3\" >10</td>\n",
       "                        <td id=\"T_8b63a_row2_col4\" class=\"data row2 col4\" >66</td>\n",
       "            </tr>\n",
       "            <tr>\n",
       "                        <th id=\"T_8b63a_level0_row3\" class=\"row_heading level0 row3\" rowspan=\"3\">Q</th>\n",
       "                        <th id=\"T_8b63a_level1_row3\" class=\"row_heading level1 row3\" >1</th>\n",
       "                        <td id=\"T_8b63a_row3_col0\" class=\"data row3 col0\" >0</td>\n",
       "                        <td id=\"T_8b63a_row3_col1\" class=\"data row3 col1\" >1</td>\n",
       "                        <td id=\"T_8b63a_row3_col2\" class=\"data row3 col2\" >1</td>\n",
       "                        <td id=\"T_8b63a_row3_col3\" class=\"data row3 col3\" >0</td>\n",
       "                        <td id=\"T_8b63a_row3_col4\" class=\"data row3 col4\" >2</td>\n",
       "            </tr>\n",
       "            <tr>\n",
       "                                <th id=\"T_8b63a_level1_row4\" class=\"row_heading level1 row4\" >2</th>\n",
       "                        <td id=\"T_8b63a_row4_col0\" class=\"data row4 col0\" >0</td>\n",
       "                        <td id=\"T_8b63a_row4_col1\" class=\"data row4 col1\" >2</td>\n",
       "                        <td id=\"T_8b63a_row4_col2\" class=\"data row4 col2\" >1</td>\n",
       "                        <td id=\"T_8b63a_row4_col3\" class=\"data row4 col3\" >0</td>\n",
       "                        <td id=\"T_8b63a_row4_col4\" class=\"data row4 col4\" >3</td>\n",
       "            </tr>\n",
       "            <tr>\n",
       "                                <th id=\"T_8b63a_level1_row5\" class=\"row_heading level1 row5\" >3</th>\n",
       "                        <td id=\"T_8b63a_row5_col0\" class=\"data row5 col0\" >9</td>\n",
       "                        <td id=\"T_8b63a_row5_col1\" class=\"data row5 col1\" >24</td>\n",
       "                        <td id=\"T_8b63a_row5_col2\" class=\"data row5 col2\" >36</td>\n",
       "                        <td id=\"T_8b63a_row5_col3\" class=\"data row5 col3\" >3</td>\n",
       "                        <td id=\"T_8b63a_row5_col4\" class=\"data row5 col4\" >72</td>\n",
       "            </tr>\n",
       "            <tr>\n",
       "                        <th id=\"T_8b63a_level0_row6\" class=\"row_heading level0 row6\" rowspan=\"3\">S</th>\n",
       "                        <th id=\"T_8b63a_level1_row6\" class=\"row_heading level1 row6\" >1</th>\n",
       "                        <td id=\"T_8b63a_row6_col0\" class=\"data row6 col0\" >2</td>\n",
       "                        <td id=\"T_8b63a_row6_col1\" class=\"data row6 col1\" >48</td>\n",
       "                        <td id=\"T_8b63a_row6_col2\" class=\"data row6 col2\" >51</td>\n",
       "                        <td id=\"T_8b63a_row6_col3\" class=\"data row6 col3\" >28</td>\n",
       "                        <td id=\"T_8b63a_row6_col4\" class=\"data row6 col4\" >129</td>\n",
       "            </tr>\n",
       "            <tr>\n",
       "                                <th id=\"T_8b63a_level1_row7\" class=\"row_heading level1 row7\" >2</th>\n",
       "                        <td id=\"T_8b63a_row7_col0\" class=\"data row7 col0\" >6</td>\n",
       "                        <td id=\"T_8b63a_row7_col1\" class=\"data row7 col1\" >61</td>\n",
       "                        <td id=\"T_8b63a_row7_col2\" class=\"data row7 col2\" >82</td>\n",
       "                        <td id=\"T_8b63a_row7_col3\" class=\"data row7 col3\" >15</td>\n",
       "                        <td id=\"T_8b63a_row7_col4\" class=\"data row7 col4\" >164</td>\n",
       "            </tr>\n",
       "            <tr>\n",
       "                                <th id=\"T_8b63a_level1_row8\" class=\"row_heading level1 row8\" >3</th>\n",
       "                        <td id=\"T_8b63a_row8_col0\" class=\"data row8 col0\" >55</td>\n",
       "                        <td id=\"T_8b63a_row8_col1\" class=\"data row8 col1\" >33</td>\n",
       "                        <td id=\"T_8b63a_row8_col2\" class=\"data row8 col2\" >231</td>\n",
       "                        <td id=\"T_8b63a_row8_col3\" class=\"data row8 col3\" >34</td>\n",
       "                        <td id=\"T_8b63a_row8_col4\" class=\"data row8 col4\" >353</td>\n",
       "            </tr>\n",
       "            <tr>\n",
       "                        <th id=\"T_8b63a_level0_row9\" class=\"row_heading level0 row9\" >All</th>\n",
       "                        <th id=\"T_8b63a_level1_row9\" class=\"row_heading level1 row9\" ></th>\n",
       "                        <td id=\"T_8b63a_row9_col0\" class=\"data row9 col0\" >81</td>\n",
       "                        <td id=\"T_8b63a_row9_col1\" class=\"data row9 col1\" >233</td>\n",
       "                        <td id=\"T_8b63a_row9_col2\" class=\"data row9 col2\" >468</td>\n",
       "                        <td id=\"T_8b63a_row9_col3\" class=\"data row9 col3\" >109</td>\n",
       "                        <td id=\"T_8b63a_row9_col4\" class=\"data row9 col4\" >891</td>\n",
       "            </tr>\n",
       "    </tbody></table>"
      ],
      "text/plain": [
       "<pandas.io.formats.style.Styler at 0x7f093e426d60>"
      ]
     },
     "execution_count": 24,
     "metadata": {},
     "output_type": "execute_result"
    }
   ],
   "source": [
    "pd.crosstab([data.Embarked,data.Pclass],[data.Sex,data.Survived],margins=True).style.background_gradient(cmap='summer_r')"
   ]
  },
  {
   "cell_type": "code",
   "execution_count": 25,
   "metadata": {},
   "outputs": [
    {
     "data": {
      "image/png": "[encoded data removed]",
      "text/plain": [
       "<Figure size 360x216 with 1 Axes>"
      ]
     },
     "metadata": {
      "needs_background": "light"
     },
     "output_type": "display_data"
    }
   ],
   "source": [
    "sns.factorplot('Embarked','Survived',data=data)\n",
    "fig=plt.gcf()\n",
    "fig.set_size_inches(5,3)\n",
    "plt.show()"
   ]
  },
  {
   "cell_type": "code",
   "execution_count": 26,
   "metadata": {},
   "outputs": [
    {
     "data": {
      "image/png": "[encoded data removed]",
      "text/plain": [
       "<Figure size 1440x1080 with 4 Axes>"
      ]
     },
     "metadata": {
      "needs_background": "light"
     },
     "output_type": "display_data"
    }
   ],
   "source": [
    "f,ax=plt.subplots(2,2,figsize=(20,15))\n",
    "sns.countplot('Embarked',data=data,ax=ax[0,0])\n",
    "ax[0,0].set_title('No. Of Passengers Boarded')\n",
    "sns.countplot('Embarked',hue='Sex',data=data,ax=ax[0,1])\n",
    "ax[0,1].set_title('Male-Female Split for Embarked')\n",
    "sns.countplot('Embarked',hue='Survived',data=data,ax=ax[1,0])\n",
    "ax[1,0].set_title('Embarked vs Survived')\n",
    "sns.countplot('Embarked',hue='Pclass',data=data,ax=ax[1,1])\n",
    "ax[1,1].set_title('Embarked vs Pclass')\n",
    "plt.subplots_adjust(wspace=0.2,hspace=0.5)\n",
    "plt.show()"
   ]
  },
  {
   "cell_type": "markdown",
   "metadata": {},
   "source": [
    "**Número de Acompanhantes - Irmãos ou Esposa**"
   ]
  },
  {
   "cell_type": "code",
   "execution_count": 27,
   "metadata": {},
   "outputs": [
    {
     "data": {
      "text/html": [
       "<style  type=\"text/css\" >\n",
       "#T_84a8f_row0_col0,#T_84a8f_row0_col1{\n",
       "            background-color:  #008066;\n",
       "            color:  #f1f1f1;\n",
       "        }#T_84a8f_row1_col0{\n",
       "            background-color:  #c4e266;\n",
       "            color:  #000000;\n",
       "        }#T_84a8f_row1_col1{\n",
       "            background-color:  #77bb66;\n",
       "            color:  #000000;\n",
       "        }#T_84a8f_row2_col0,#T_84a8f_row4_col0{\n",
       "            background-color:  #f9fc66;\n",
       "            color:  #000000;\n",
       "        }#T_84a8f_row2_col1{\n",
       "            background-color:  #f0f866;\n",
       "            color:  #000000;\n",
       "        }#T_84a8f_row3_col0,#T_84a8f_row3_col1{\n",
       "            background-color:  #fbfd66;\n",
       "            color:  #000000;\n",
       "        }#T_84a8f_row4_col1{\n",
       "            background-color:  #fcfe66;\n",
       "            color:  #000000;\n",
       "        }#T_84a8f_row5_col0,#T_84a8f_row5_col1,#T_84a8f_row6_col1{\n",
       "            background-color:  #ffff66;\n",
       "            color:  #000000;\n",
       "        }#T_84a8f_row6_col0{\n",
       "            background-color:  #fefe66;\n",
       "            color:  #000000;\n",
       "        }</style><table id=\"T_84a8f_\" ><thead>    <tr>        <th class=\"index_name level0\" >Survived</th>        <th class=\"col_heading level0 col0\" >0</th>        <th class=\"col_heading level0 col1\" >1</th>    </tr>    <tr>        <th class=\"index_name level0\" >SibSp</th>        <th class=\"blank\" ></th>        <th class=\"blank\" ></th>    </tr></thead><tbody>\n",
       "                <tr>\n",
       "                        <th id=\"T_84a8f_level0_row0\" class=\"row_heading level0 row0\" >0</th>\n",
       "                        <td id=\"T_84a8f_row0_col0\" class=\"data row0 col0\" >398</td>\n",
       "                        <td id=\"T_84a8f_row0_col1\" class=\"data row0 col1\" >210</td>\n",
       "            </tr>\n",
       "            <tr>\n",
       "                        <th id=\"T_84a8f_level0_row1\" class=\"row_heading level0 row1\" >1</th>\n",
       "                        <td id=\"T_84a8f_row1_col0\" class=\"data row1 col0\" >97</td>\n",
       "                        <td id=\"T_84a8f_row1_col1\" class=\"data row1 col1\" >112</td>\n",
       "            </tr>\n",
       "            <tr>\n",
       "                        <th id=\"T_84a8f_level0_row2\" class=\"row_heading level0 row2\" >2</th>\n",
       "                        <td id=\"T_84a8f_row2_col0\" class=\"data row2 col0\" >15</td>\n",
       "                        <td id=\"T_84a8f_row2_col1\" class=\"data row2 col1\" >13</td>\n",
       "            </tr>\n",
       "            <tr>\n",
       "                        <th id=\"T_84a8f_level0_row3\" class=\"row_heading level0 row3\" >3</th>\n",
       "                        <td id=\"T_84a8f_row3_col0\" class=\"data row3 col0\" >12</td>\n",
       "                        <td id=\"T_84a8f_row3_col1\" class=\"data row3 col1\" >4</td>\n",
       "            </tr>\n",
       "            <tr>\n",
       "                        <th id=\"T_84a8f_level0_row4\" class=\"row_heading level0 row4\" >4</th>\n",
       "                        <td id=\"T_84a8f_row4_col0\" class=\"data row4 col0\" >15</td>\n",
       "                        <td id=\"T_84a8f_row4_col1\" class=\"data row4 col1\" >3</td>\n",
       "            </tr>\n",
       "            <tr>\n",
       "                        <th id=\"T_84a8f_level0_row5\" class=\"row_heading level0 row5\" >5</th>\n",
       "                        <td id=\"T_84a8f_row5_col0\" class=\"data row5 col0\" >5</td>\n",
       "                        <td id=\"T_84a8f_row5_col1\" class=\"data row5 col1\" >0</td>\n",
       "            </tr>\n",
       "            <tr>\n",
       "                        <th id=\"T_84a8f_level0_row6\" class=\"row_heading level0 row6\" >8</th>\n",
       "                        <td id=\"T_84a8f_row6_col0\" class=\"data row6 col0\" >7</td>\n",
       "                        <td id=\"T_84a8f_row6_col1\" class=\"data row6 col1\" >0</td>\n",
       "            </tr>\n",
       "    </tbody></table>"
      ],
      "text/plain": [
       "<pandas.io.formats.style.Styler at 0x7f093da750d0>"
      ]
     },
     "execution_count": 27,
     "metadata": {},
     "output_type": "execute_result"
    }
   ],
   "source": [
    "pd.crosstab([data.SibSp],data.Survived).style.background_gradient(cmap='summer_r')"
   ]
  },
  {
   "cell_type": "code",
   "execution_count": 28,
   "metadata": {},
   "outputs": [
    {
     "data": {
      "image/png": "[encoded data removed]",
      "text/plain": [
       "<Figure size 720x576 with 1 Axes>"
      ]
     },
     "metadata": {
      "needs_background": "light"
     },
     "output_type": "display_data"
    }
   ],
   "source": [
    "f,ax=plt.subplots(1,1,figsize=(10,8))\n",
    "sns.barplot('SibSp','Survived',data=data,ax=ax)\n",
    "ax.set_title('Acompanhante vs Sobrevivência')\n",
    "plt.show()"
   ]
  },
  {
   "cell_type": "markdown",
   "metadata": {},
   "source": [
    "**Passageiro com acompanhante por Classe**"
   ]
  },
  {
   "cell_type": "code",
   "execution_count": 29,
   "metadata": {},
   "outputs": [
    {
     "data": {
      "text/html": [
       "<style  type=\"text/css\" >\n",
       "#T_1f76f_row0_col0,#T_1f76f_row0_col1,#T_1f76f_row0_col2{\n",
       "            background-color:  #008066;\n",
       "            color:  #f1f1f1;\n",
       "        }#T_1f76f_row1_col0{\n",
       "            background-color:  #7bbd66;\n",
       "            color:  #000000;\n",
       "        }#T_1f76f_row1_col1{\n",
       "            background-color:  #8ac466;\n",
       "            color:  #000000;\n",
       "        }#T_1f76f_row1_col2{\n",
       "            background-color:  #c6e266;\n",
       "            color:  #000000;\n",
       "        }#T_1f76f_row2_col0,#T_1f76f_row4_col2{\n",
       "            background-color:  #f6fa66;\n",
       "            color:  #000000;\n",
       "        }#T_1f76f_row2_col1{\n",
       "            background-color:  #eef666;\n",
       "            color:  #000000;\n",
       "        }#T_1f76f_row2_col2{\n",
       "            background-color:  #f8fc66;\n",
       "            color:  #000000;\n",
       "        }#T_1f76f_row3_col0,#T_1f76f_row3_col2{\n",
       "            background-color:  #fafc66;\n",
       "            color:  #000000;\n",
       "        }#T_1f76f_row3_col1{\n",
       "            background-color:  #fdfe66;\n",
       "            color:  #000000;\n",
       "        }#T_1f76f_row4_col0,#T_1f76f_row4_col1,#T_1f76f_row5_col0,#T_1f76f_row5_col1,#T_1f76f_row5_col2,#T_1f76f_row6_col0,#T_1f76f_row6_col1{\n",
       "            background-color:  #ffff66;\n",
       "            color:  #000000;\n",
       "        }#T_1f76f_row6_col2{\n",
       "            background-color:  #fefe66;\n",
       "            color:  #000000;\n",
       "        }</style><table id=\"T_1f76f_\" ><thead>    <tr>        <th class=\"index_name level0\" >Pclass</th>        <th class=\"col_heading level0 col0\" >1</th>        <th class=\"col_heading level0 col1\" >2</th>        <th class=\"col_heading level0 col2\" >3</th>    </tr>    <tr>        <th class=\"index_name level0\" >SibSp</th>        <th class=\"blank\" ></th>        <th class=\"blank\" ></th>        <th class=\"blank\" ></th>    </tr></thead><tbody>\n",
       "                <tr>\n",
       "                        <th id=\"T_1f76f_level0_row0\" class=\"row_heading level0 row0\" >0</th>\n",
       "                        <td id=\"T_1f76f_row0_col0\" class=\"data row0 col0\" >137</td>\n",
       "                        <td id=\"T_1f76f_row0_col1\" class=\"data row0 col1\" >120</td>\n",
       "                        <td id=\"T_1f76f_row0_col2\" class=\"data row0 col2\" >351</td>\n",
       "            </tr>\n",
       "            <tr>\n",
       "                        <th id=\"T_1f76f_level0_row1\" class=\"row_heading level0 row1\" >1</th>\n",
       "                        <td id=\"T_1f76f_row1_col0\" class=\"data row1 col0\" >71</td>\n",
       "                        <td id=\"T_1f76f_row1_col1\" class=\"data row1 col1\" >55</td>\n",
       "                        <td id=\"T_1f76f_row1_col2\" class=\"data row1 col2\" >83</td>\n",
       "            </tr>\n",
       "            <tr>\n",
       "                        <th id=\"T_1f76f_level0_row2\" class=\"row_heading level0 row2\" >2</th>\n",
       "                        <td id=\"T_1f76f_row2_col0\" class=\"data row2 col0\" >5</td>\n",
       "                        <td id=\"T_1f76f_row2_col1\" class=\"data row2 col1\" >8</td>\n",
       "                        <td id=\"T_1f76f_row2_col2\" class=\"data row2 col2\" >15</td>\n",
       "            </tr>\n",
       "            <tr>\n",
       "                        <th id=\"T_1f76f_level0_row3\" class=\"row_heading level0 row3\" >3</th>\n",
       "                        <td id=\"T_1f76f_row3_col0\" class=\"data row3 col0\" >3</td>\n",
       "                        <td id=\"T_1f76f_row3_col1\" class=\"data row3 col1\" >1</td>\n",
       "                        <td id=\"T_1f76f_row3_col2\" class=\"data row3 col2\" >12</td>\n",
       "            </tr>\n",
       "            <tr>\n",
       "                        <th id=\"T_1f76f_level0_row4\" class=\"row_heading level0 row4\" >4</th>\n",
       "                        <td id=\"T_1f76f_row4_col0\" class=\"data row4 col0\" >0</td>\n",
       "                        <td id=\"T_1f76f_row4_col1\" class=\"data row4 col1\" >0</td>\n",
       "                        <td id=\"T_1f76f_row4_col2\" class=\"data row4 col2\" >18</td>\n",
       "            </tr>\n",
       "            <tr>\n",
       "                        <th id=\"T_1f76f_level0_row5\" class=\"row_heading level0 row5\" >5</th>\n",
       "                        <td id=\"T_1f76f_row5_col0\" class=\"data row5 col0\" >0</td>\n",
       "                        <td id=\"T_1f76f_row5_col1\" class=\"data row5 col1\" >0</td>\n",
       "                        <td id=\"T_1f76f_row5_col2\" class=\"data row5 col2\" >5</td>\n",
       "            </tr>\n",
       "            <tr>\n",
       "                        <th id=\"T_1f76f_level0_row6\" class=\"row_heading level0 row6\" >8</th>\n",
       "                        <td id=\"T_1f76f_row6_col0\" class=\"data row6 col0\" >0</td>\n",
       "                        <td id=\"T_1f76f_row6_col1\" class=\"data row6 col1\" >0</td>\n",
       "                        <td id=\"T_1f76f_row6_col2\" class=\"data row6 col2\" >7</td>\n",
       "            </tr>\n",
       "    </tbody></table>"
      ],
      "text/plain": [
       "<pandas.io.formats.style.Styler at 0x7f093db0e880>"
      ]
     },
     "execution_count": 29,
     "metadata": {},
     "output_type": "execute_result"
    }
   ],
   "source": [
    "pd.crosstab(data.SibSp,data.Pclass).style.background_gradient(cmap='summer_r')"
   ]
  },
  {
   "cell_type": "markdown",
   "metadata": {},
   "source": [
    "**Número de Acompanhantes - Pais ou Filhos**"
   ]
  },
  {
   "cell_type": "code",
   "execution_count": 30,
   "metadata": {},
   "outputs": [
    {
     "data": {
      "text/html": [
       "<style  type=\"text/css\" >\n",
       "#T_4f463_row0_col0,#T_4f463_row0_col1,#T_4f463_row0_col2{\n",
       "            background-color:  #008066;\n",
       "            color:  #f1f1f1;\n",
       "        }#T_4f463_row1_col0{\n",
       "            background-color:  #cfe766;\n",
       "            color:  #000000;\n",
       "        }#T_4f463_row1_col1{\n",
       "            background-color:  #c2e066;\n",
       "            color:  #000000;\n",
       "        }#T_4f463_row1_col2{\n",
       "            background-color:  #dbed66;\n",
       "            color:  #000000;\n",
       "        }#T_4f463_row2_col0{\n",
       "            background-color:  #dfef66;\n",
       "            color:  #000000;\n",
       "        }#T_4f463_row2_col1{\n",
       "            background-color:  #e1f066;\n",
       "            color:  #000000;\n",
       "        }#T_4f463_row2_col2{\n",
       "            background-color:  #e3f166;\n",
       "            color:  #000000;\n",
       "        }#T_4f463_row3_col0,#T_4f463_row4_col1,#T_4f463_row5_col0,#T_4f463_row5_col1,#T_4f463_row6_col0,#T_4f463_row6_col1,#T_4f463_row6_col2{\n",
       "            background-color:  #ffff66;\n",
       "            color:  #000000;\n",
       "        }#T_4f463_row3_col1{\n",
       "            background-color:  #fcfe66;\n",
       "            color:  #000000;\n",
       "        }#T_4f463_row3_col2,#T_4f463_row4_col0,#T_4f463_row4_col2{\n",
       "            background-color:  #fefe66;\n",
       "            color:  #000000;\n",
       "        }#T_4f463_row5_col2{\n",
       "            background-color:  #fdfe66;\n",
       "            color:  #000000;\n",
       "        }</style><table id=\"T_4f463_\" ><thead>    <tr>        <th class=\"index_name level0\" >Pclass</th>        <th class=\"col_heading level0 col0\" >1</th>        <th class=\"col_heading level0 col1\" >2</th>        <th class=\"col_heading level0 col2\" >3</th>    </tr>    <tr>        <th class=\"index_name level0\" >Parch</th>        <th class=\"blank\" ></th>        <th class=\"blank\" ></th>        <th class=\"blank\" ></th>    </tr></thead><tbody>\n",
       "                <tr>\n",
       "                        <th id=\"T_4f463_level0_row0\" class=\"row_heading level0 row0\" >0</th>\n",
       "                        <td id=\"T_4f463_row0_col0\" class=\"data row0 col0\" >163</td>\n",
       "                        <td id=\"T_4f463_row0_col1\" class=\"data row0 col1\" >134</td>\n",
       "                        <td id=\"T_4f463_row0_col2\" class=\"data row0 col2\" >381</td>\n",
       "            </tr>\n",
       "            <tr>\n",
       "                        <th id=\"T_4f463_level0_row1\" class=\"row_heading level0 row1\" >1</th>\n",
       "                        <td id=\"T_4f463_row1_col0\" class=\"data row1 col0\" >31</td>\n",
       "                        <td id=\"T_4f463_row1_col1\" class=\"data row1 col1\" >32</td>\n",
       "                        <td id=\"T_4f463_row1_col2\" class=\"data row1 col2\" >55</td>\n",
       "            </tr>\n",
       "            <tr>\n",
       "                        <th id=\"T_4f463_level0_row2\" class=\"row_heading level0 row2\" >2</th>\n",
       "                        <td id=\"T_4f463_row2_col0\" class=\"data row2 col0\" >21</td>\n",
       "                        <td id=\"T_4f463_row2_col1\" class=\"data row2 col1\" >16</td>\n",
       "                        <td id=\"T_4f463_row2_col2\" class=\"data row2 col2\" >43</td>\n",
       "            </tr>\n",
       "            <tr>\n",
       "                        <th id=\"T_4f463_level0_row3\" class=\"row_heading level0 row3\" >3</th>\n",
       "                        <td id=\"T_4f463_row3_col0\" class=\"data row3 col0\" >0</td>\n",
       "                        <td id=\"T_4f463_row3_col1\" class=\"data row3 col1\" >2</td>\n",
       "                        <td id=\"T_4f463_row3_col2\" class=\"data row3 col2\" >3</td>\n",
       "            </tr>\n",
       "            <tr>\n",
       "                        <th id=\"T_4f463_level0_row4\" class=\"row_heading level0 row4\" >4</th>\n",
       "                        <td id=\"T_4f463_row4_col0\" class=\"data row4 col0\" >1</td>\n",
       "                        <td id=\"T_4f463_row4_col1\" class=\"data row4 col1\" >0</td>\n",
       "                        <td id=\"T_4f463_row4_col2\" class=\"data row4 col2\" >3</td>\n",
       "            </tr>\n",
       "            <tr>\n",
       "                        <th id=\"T_4f463_level0_row5\" class=\"row_heading level0 row5\" >5</th>\n",
       "                        <td id=\"T_4f463_row5_col0\" class=\"data row5 col0\" >0</td>\n",
       "                        <td id=\"T_4f463_row5_col1\" class=\"data row5 col1\" >0</td>\n",
       "                        <td id=\"T_4f463_row5_col2\" class=\"data row5 col2\" >5</td>\n",
       "            </tr>\n",
       "            <tr>\n",
       "                        <th id=\"T_4f463_level0_row6\" class=\"row_heading level0 row6\" >6</th>\n",
       "                        <td id=\"T_4f463_row6_col0\" class=\"data row6 col0\" >0</td>\n",
       "                        <td id=\"T_4f463_row6_col1\" class=\"data row6 col1\" >0</td>\n",
       "                        <td id=\"T_4f463_row6_col2\" class=\"data row6 col2\" >1</td>\n",
       "            </tr>\n",
       "    </tbody></table>"
      ],
      "text/plain": [
       "<pandas.io.formats.style.Styler at 0x7f093da69e50>"
      ]
     },
     "execution_count": 30,
     "metadata": {},
     "output_type": "execute_result"
    }
   ],
   "source": [
    "pd.crosstab(data.Parch,data.Pclass).style.background_gradient(cmap='summer_r')"
   ]
  },
  {
   "cell_type": "code",
   "execution_count": 31,
   "metadata": {},
   "outputs": [
    {
     "data": {
      "image/png": "[encoded data removed]",
      "text/plain": [
       "<Figure size 720x576 with 1 Axes>"
      ]
     },
     "metadata": {
      "needs_background": "light"
     },
     "output_type": "display_data"
    }
   ],
   "source": [
    "f,ax=plt.subplots(1,1,figsize=(10,8))\n",
    "sns.barplot('Parch','Survived',data=data,ax=ax)\n",
    "ax.set_title('Acompanhante vs Sobrevivência')\n",
    "plt.show()"
   ]
  },
  {
   "cell_type": "markdown",
   "metadata": {},
   "source": [
    "**Juntando os Dados de Familia**"
   ]
  },
  {
   "cell_type": "code",
   "execution_count": 32,
   "metadata": {},
   "outputs": [],
   "source": [
    "def family_size(data):    \n",
    "    data['Family_Size']=0\n",
    "    data['Family_Size']=data['Parch']+data['SibSp'] # tamanho da família\n",
    "    data['Alone']=0\n",
    "    data.loc[data.Family_Size==0,'Alone']= 1 #Alone\n",
    "    return data\n",
    "tables = [family_size(t) for t in tables]"
   ]
  },
  {
   "cell_type": "code",
   "execution_count": 33,
   "metadata": {},
   "outputs": [
    {
     "data": {
      "text/html": [
       "<style  type=\"text/css\" >\n",
       "#T_d17c2_row0_col0,#T_d17c2_row0_col1,#T_d17c2_row0_col2,#T_d17c2_row0_col3,#T_d17c2_row0_col4,#T_d17c2_row0_col5{\n",
       "            background-color:  #008066;\n",
       "            color:  #f1f1f1;\n",
       "        }#T_d17c2_row1_col0{\n",
       "            background-color:  #a0d066;\n",
       "            color:  #000000;\n",
       "        }#T_d17c2_row1_col1{\n",
       "            background-color:  #1e8e66;\n",
       "            color:  #000000;\n",
       "        }#T_d17c2_row1_col2{\n",
       "            background-color:  #c3e166;\n",
       "            color:  #000000;\n",
       "        }#T_d17c2_row1_col3{\n",
       "            background-color:  #7fbf66;\n",
       "            color:  #000000;\n",
       "        }#T_d17c2_row1_col4{\n",
       "            background-color:  #ddee66;\n",
       "            color:  #000000;\n",
       "        }#T_d17c2_row1_col5,#T_d17c2_row2_col5{\n",
       "            background-color:  #b5da66;\n",
       "            color:  #000000;\n",
       "        }#T_d17c2_row2_col0{\n",
       "            background-color:  #e1f066;\n",
       "            color:  #000000;\n",
       "        }#T_d17c2_row2_col1{\n",
       "            background-color:  #b0d866;\n",
       "            color:  #000000;\n",
       "        }#T_d17c2_row2_col2{\n",
       "            background-color:  #daec66;\n",
       "            color:  #000000;\n",
       "        }#T_d17c2_row2_col3{\n",
       "            background-color:  #6ab466;\n",
       "            color:  #000000;\n",
       "        }#T_d17c2_row2_col4{\n",
       "            background-color:  #e7f366;\n",
       "            color:  #000000;\n",
       "        }#T_d17c2_row3_col0,#T_d17c2_row5_col0{\n",
       "            background-color:  #f5fa66;\n",
       "            color:  #000000;\n",
       "        }#T_d17c2_row3_col1,#T_d17c2_row3_col5{\n",
       "            background-color:  #e9f466;\n",
       "            color:  #000000;\n",
       "        }#T_d17c2_row3_col2{\n",
       "            background-color:  #f4fa66;\n",
       "            color:  #000000;\n",
       "        }#T_d17c2_row3_col3{\n",
       "            background-color:  #b8dc66;\n",
       "            color:  #000000;\n",
       "        }#T_d17c2_row3_col4,#T_d17c2_row4_col0,#T_d17c2_row4_col2,#T_d17c2_row4_col5,#T_d17c2_row5_col2,#T_d17c2_row5_col5,#T_d17c2_row6_col0,#T_d17c2_row6_col1,#T_d17c2_row6_col2,#T_d17c2_row6_col3,#T_d17c2_row7_col0,#T_d17c2_row7_col1,#T_d17c2_row7_col2,#T_d17c2_row7_col3,#T_d17c2_row7_col5,#T_d17c2_row8_col0,#T_d17c2_row8_col1,#T_d17c2_row8_col2,#T_d17c2_row8_col3,#T_d17c2_row8_col5{\n",
       "            background-color:  #ffff66;\n",
       "            color:  #000000;\n",
       "        }#T_d17c2_row4_col1,#T_d17c2_row5_col1{\n",
       "            background-color:  #f7fb66;\n",
       "            color:  #000000;\n",
       "        }#T_d17c2_row4_col3,#T_d17c2_row5_col3{\n",
       "            background-color:  #f8fc66;\n",
       "            color:  #000000;\n",
       "        }#T_d17c2_row4_col4{\n",
       "            background-color:  #f6fa66;\n",
       "            color:  #000000;\n",
       "        }#T_d17c2_row5_col4,#T_d17c2_row6_col5{\n",
       "            background-color:  #f1f866;\n",
       "            color:  #000000;\n",
       "        }#T_d17c2_row6_col4{\n",
       "            background-color:  #fafc66;\n",
       "            color:  #000000;\n",
       "        }#T_d17c2_row7_col4{\n",
       "            background-color:  #fcfe66;\n",
       "            color:  #000000;\n",
       "        }#T_d17c2_row8_col4{\n",
       "            background-color:  #fbfd66;\n",
       "            color:  #000000;\n",
       "        }</style><table id=\"T_d17c2_\" ><thead>    <tr>        <th class=\"index_name level0\" >Pclass</th>        <th class=\"col_heading level0 col0\" colspan=\"2\">1</th>        <th class=\"col_heading level0 col2\" colspan=\"2\">2</th>        <th class=\"col_heading level0 col4\" colspan=\"2\">3</th>    </tr>    <tr>        <th class=\"index_name level1\" >Survived</th>        <th class=\"col_heading level1 col0\" >0</th>        <th class=\"col_heading level1 col1\" >1</th>        <th class=\"col_heading level1 col2\" >0</th>        <th class=\"col_heading level1 col3\" >1</th>        <th class=\"col_heading level1 col4\" >0</th>        <th class=\"col_heading level1 col5\" >1</th>    </tr>    <tr>        <th class=\"index_name level0\" >Family_Size</th>        <th class=\"blank\" ></th>        <th class=\"blank\" ></th>        <th class=\"blank\" ></th>        <th class=\"blank\" ></th>        <th class=\"blank\" ></th>        <th class=\"blank\" ></th>    </tr></thead><tbody>\n",
       "                <tr>\n",
       "                        <th id=\"T_d17c2_level0_row0\" class=\"row_heading level0 row0\" >0</th>\n",
       "                        <td id=\"T_d17c2_row0_col0\" class=\"data row0 col0\" >51</td>\n",
       "                        <td id=\"T_d17c2_row0_col1\" class=\"data row0 col1\" >58</td>\n",
       "                        <td id=\"T_d17c2_row0_col2\" class=\"data row0 col2\" >68</td>\n",
       "                        <td id=\"T_d17c2_row0_col3\" class=\"data row0 col3\" >36</td>\n",
       "                        <td id=\"T_d17c2_row0_col4\" class=\"data row0 col4\" >255</td>\n",
       "                        <td id=\"T_d17c2_row0_col5\" class=\"data row0 col5\" >69</td>\n",
       "            </tr>\n",
       "            <tr>\n",
       "                        <th id=\"T_d17c2_level0_row1\" class=\"row_heading level0 row1\" >1</th>\n",
       "                        <td id=\"T_d17c2_row1_col0\" class=\"data row1 col0\" >19</td>\n",
       "                        <td id=\"T_d17c2_row1_col1\" class=\"data row1 col1\" >51</td>\n",
       "                        <td id=\"T_d17c2_row1_col2\" class=\"data row1 col2\" >16</td>\n",
       "                        <td id=\"T_d17c2_row1_col3\" class=\"data row1 col3\" >18</td>\n",
       "                        <td id=\"T_d17c2_row1_col4\" class=\"data row1 col4\" >37</td>\n",
       "                        <td id=\"T_d17c2_row1_col5\" class=\"data row1 col5\" >20</td>\n",
       "            </tr>\n",
       "            <tr>\n",
       "                        <th id=\"T_d17c2_level0_row2\" class=\"row_heading level0 row2\" >2</th>\n",
       "                        <td id=\"T_d17c2_row2_col0\" class=\"data row2 col0\" >6</td>\n",
       "                        <td id=\"T_d17c2_row2_col1\" class=\"data row2 col1\" >18</td>\n",
       "                        <td id=\"T_d17c2_row2_col2\" class=\"data row2 col2\" >10</td>\n",
       "                        <td id=\"T_d17c2_row2_col3\" class=\"data row2 col3\" >21</td>\n",
       "                        <td id=\"T_d17c2_row2_col4\" class=\"data row2 col4\" >27</td>\n",
       "                        <td id=\"T_d17c2_row2_col5\" class=\"data row2 col5\" >20</td>\n",
       "            </tr>\n",
       "            <tr>\n",
       "                        <th id=\"T_d17c2_level0_row3\" class=\"row_heading level0 row3\" >3</th>\n",
       "                        <td id=\"T_d17c2_row3_col0\" class=\"data row3 col0\" >2</td>\n",
       "                        <td id=\"T_d17c2_row3_col1\" class=\"data row3 col1\" >5</td>\n",
       "                        <td id=\"T_d17c2_row3_col2\" class=\"data row3 col2\" >3</td>\n",
       "                        <td id=\"T_d17c2_row3_col3\" class=\"data row3 col3\" >10</td>\n",
       "                        <td id=\"T_d17c2_row3_col4\" class=\"data row3 col4\" >3</td>\n",
       "                        <td id=\"T_d17c2_row3_col5\" class=\"data row3 col5\" >6</td>\n",
       "            </tr>\n",
       "            <tr>\n",
       "                        <th id=\"T_d17c2_level0_row4\" class=\"row_heading level0 row4\" >4</th>\n",
       "                        <td id=\"T_d17c2_row4_col0\" class=\"data row4 col0\" >0</td>\n",
       "                        <td id=\"T_d17c2_row4_col1\" class=\"data row4 col1\" >2</td>\n",
       "                        <td id=\"T_d17c2_row4_col2\" class=\"data row4 col2\" >0</td>\n",
       "                        <td id=\"T_d17c2_row4_col3\" class=\"data row4 col3\" >1</td>\n",
       "                        <td id=\"T_d17c2_row4_col4\" class=\"data row4 col4\" >12</td>\n",
       "                        <td id=\"T_d17c2_row4_col5\" class=\"data row4 col5\" >0</td>\n",
       "            </tr>\n",
       "            <tr>\n",
       "                        <th id=\"T_d17c2_level0_row5\" class=\"row_heading level0 row5\" >5</th>\n",
       "                        <td id=\"T_d17c2_row5_col0\" class=\"data row5 col0\" >2</td>\n",
       "                        <td id=\"T_d17c2_row5_col1\" class=\"data row5 col1\" >2</td>\n",
       "                        <td id=\"T_d17c2_row5_col2\" class=\"data row5 col2\" >0</td>\n",
       "                        <td id=\"T_d17c2_row5_col3\" class=\"data row5 col3\" >1</td>\n",
       "                        <td id=\"T_d17c2_row5_col4\" class=\"data row5 col4\" >17</td>\n",
       "                        <td id=\"T_d17c2_row5_col5\" class=\"data row5 col5\" >0</td>\n",
       "            </tr>\n",
       "            <tr>\n",
       "                        <th id=\"T_d17c2_level0_row6\" class=\"row_heading level0 row6\" >6</th>\n",
       "                        <td id=\"T_d17c2_row6_col0\" class=\"data row6 col0\" >0</td>\n",
       "                        <td id=\"T_d17c2_row6_col1\" class=\"data row6 col1\" >0</td>\n",
       "                        <td id=\"T_d17c2_row6_col2\" class=\"data row6 col2\" >0</td>\n",
       "                        <td id=\"T_d17c2_row6_col3\" class=\"data row6 col3\" >0</td>\n",
       "                        <td id=\"T_d17c2_row6_col4\" class=\"data row6 col4\" >8</td>\n",
       "                        <td id=\"T_d17c2_row6_col5\" class=\"data row6 col5\" >4</td>\n",
       "            </tr>\n",
       "            <tr>\n",
       "                        <th id=\"T_d17c2_level0_row7\" class=\"row_heading level0 row7\" >7</th>\n",
       "                        <td id=\"T_d17c2_row7_col0\" class=\"data row7 col0\" >0</td>\n",
       "                        <td id=\"T_d17c2_row7_col1\" class=\"data row7 col1\" >0</td>\n",
       "                        <td id=\"T_d17c2_row7_col2\" class=\"data row7 col2\" >0</td>\n",
       "                        <td id=\"T_d17c2_row7_col3\" class=\"data row7 col3\" >0</td>\n",
       "                        <td id=\"T_d17c2_row7_col4\" class=\"data row7 col4\" >6</td>\n",
       "                        <td id=\"T_d17c2_row7_col5\" class=\"data row7 col5\" >0</td>\n",
       "            </tr>\n",
       "            <tr>\n",
       "                        <th id=\"T_d17c2_level0_row8\" class=\"row_heading level0 row8\" >10</th>\n",
       "                        <td id=\"T_d17c2_row8_col0\" class=\"data row8 col0\" >0</td>\n",
       "                        <td id=\"T_d17c2_row8_col1\" class=\"data row8 col1\" >0</td>\n",
       "                        <td id=\"T_d17c2_row8_col2\" class=\"data row8 col2\" >0</td>\n",
       "                        <td id=\"T_d17c2_row8_col3\" class=\"data row8 col3\" >0</td>\n",
       "                        <td id=\"T_d17c2_row8_col4\" class=\"data row8 col4\" >7</td>\n",
       "                        <td id=\"T_d17c2_row8_col5\" class=\"data row8 col5\" >0</td>\n",
       "            </tr>\n",
       "    </tbody></table>"
      ],
      "text/plain": [
       "<pandas.io.formats.style.Styler at 0x7f093dacf070>"
      ]
     },
     "execution_count": 33,
     "metadata": {},
     "output_type": "execute_result"
    }
   ],
   "source": [
    "pd.crosstab(data.Family_Size,[data.Pclass,data.Survived]).style.background_gradient(cmap='summer_r')"
   ]
  },
  {
   "cell_type": "code",
   "execution_count": 34,
   "metadata": {},
   "outputs": [],
   "source": [
    "def poor_Alone_Die(data):\n",
    "    data['Poor_Alone_Die'] = 0\n",
    "    data.loc[(data['Family_Size'] == 0) & (data['Pclass'] == 3) & (data['Sex'] == 'male'),'Poor_Alone_Die']= 1\n",
    "    data.loc[(data['Family_Size'] == 0) & (data['Pclass'] == 2) & (data['Sex'] == 'male'),'Poor_Alone_Die']= 1\n",
    "    return data\n",
    "\n",
    "tables = [poor_Alone_Die(t) for t in tables]"
   ]
  },
  {
   "cell_type": "code",
   "execution_count": 35,
   "metadata": {},
   "outputs": [],
   "source": [
    "def rich_companion_live(data):\n",
    "    data['Rich_Companion_Live'] = 0\n",
    "    data.loc[(data['Family_Size'] == 1) & (data['Pclass'] == 1) & (data['Sex'] == 'female'),'Rich_Companion_Live']= 1\n",
    "    return data\n",
    "tables = [rich_companion_live(t) for t in tables]"
   ]
  },
  {
   "cell_type": "markdown",
   "metadata": {},
   "source": [
    "**Ticket**"
   ]
  },
  {
   "cell_type": "code",
   "execution_count": 36,
   "metadata": {},
   "outputs": [
    {
     "name": "stdout",
     "output_type": "stream",
     "text": [
      "Ticket MAX: 512.3292\n",
      "Ticket MIN: 0.0\n",
      "Ticket Média: 32.204207968574636\n"
     ]
    }
   ],
   "source": [
    "print('Ticket MAX:',data['Fare'].max())\n",
    "print('Ticket MIN:',data['Fare'].min())\n",
    "print('Ticket Média:',data['Fare'].mean())"
   ]
  },
  {
   "cell_type": "code",
   "execution_count": 37,
   "metadata": {
    "scrolled": true
   },
   "outputs": [
    {
     "data": {
      "image/png": "[encoded data removed]",
      "text/plain": [
       "<Figure size 1440x576 with 3 Axes>"
      ]
     },
     "metadata": {
      "needs_background": "light"
     },
     "output_type": "display_data"
    }
   ],
   "source": [
    "f,ax=plt.subplots(1,3,figsize=(20,8))\n",
    "sns.distplot(data[data['Pclass']==1].Fare,ax=ax[0])\n",
    "ax[0].set_title('Ticket Classe 1')\n",
    "sns.distplot(data[data['Pclass']==2].Fare,ax=ax[1])\n",
    "ax[1].set_title('Ticket Classe 2')\n",
    "sns.distplot(data[data['Pclass']==3].Fare,ax=ax[2])\n",
    "ax[2].set_title('Ticket Classe 3')\n",
    "plt.show()"
   ]
  },
  {
   "cell_type": "markdown",
   "metadata": {},
   "source": [
    "**Substituindo por valores numéricos**"
   ]
  },
  {
   "cell_type": "code",
   "execution_count": 38,
   "metadata": {},
   "outputs": [],
   "source": [
    "def replace_string_values(data):\n",
    "    data['Sex'].replace(['male','female'],[0,1],inplace=True )\n",
    "    data['Initial'].replace(['Mr','Mrs','Miss','Master','Other'],[0,1,2,3,4],inplace=True)\n",
    "    return data\n",
    "tables = [replace_string_values(t) for t in tables]"
   ]
  },
  {
   "cell_type": "markdown",
   "metadata": {},
   "source": [
    "\n",
    "**Distribuindo Fare em 4 Classes distintas**"
   ]
  },
  {
   "cell_type": "code",
   "execution_count": 39,
   "metadata": {},
   "outputs": [
    {
     "data": {
      "text/html": [
       "<div>\n",
       "<style scoped>\n",
       "    .dataframe tbody tr th:only-of-type {\n",
       "        vertical-align: middle;\n",
       "    }\n",
       "\n",
       "    .dataframe tbody tr th {\n",
       "        vertical-align: top;\n",
       "    }\n",
       "\n",
       "    .dataframe thead th {\n",
       "        text-align: right;\n",
       "    }\n",
       "</style>\n",
       "<table border=\"1\" class=\"dataframe\">\n",
       "  <thead>\n",
       "    <tr style=\"text-align: right;\">\n",
       "      <th></th>\n",
       "      <th>PassengerId</th>\n",
       "      <th>Pclass</th>\n",
       "      <th>Name</th>\n",
       "      <th>Sex</th>\n",
       "      <th>Age</th>\n",
       "      <th>SibSp</th>\n",
       "      <th>Parch</th>\n",
       "      <th>Ticket</th>\n",
       "      <th>Fare</th>\n",
       "      <th>Cabin</th>\n",
       "      <th>Embarked</th>\n",
       "      <th>Initial</th>\n",
       "      <th>Family_Size</th>\n",
       "      <th>Alone</th>\n",
       "      <th>Poor_Alone_Die</th>\n",
       "      <th>Rich_Companion_Live</th>\n",
       "    </tr>\n",
       "  </thead>\n",
       "  <tbody>\n",
       "    <tr>\n",
       "      <th>152</th>\n",
       "      <td>1044</td>\n",
       "      <td>3</td>\n",
       "      <td>Storey, Mr. Thomas</td>\n",
       "      <td>0</td>\n",
       "      <td>60.5</td>\n",
       "      <td>0</td>\n",
       "      <td>0</td>\n",
       "      <td>3701</td>\n",
       "      <td>NaN</td>\n",
       "      <td>NaN</td>\n",
       "      <td>S</td>\n",
       "      <td>0</td>\n",
       "      <td>0</td>\n",
       "      <td>1</td>\n",
       "      <td>1</td>\n",
       "      <td>0</td>\n",
       "    </tr>\n",
       "  </tbody>\n",
       "</table>\n",
       "</div>"
      ],
      "text/plain": [
       "     PassengerId  Pclass                Name  Sex   Age  SibSp  Parch Ticket  \\\n",
       "152         1044       3  Storey, Mr. Thomas    0  60.5      0      0   3701   \n",
       "\n",
       "     Fare Cabin Embarked  Initial  Family_Size  Alone  Poor_Alone_Die  \\\n",
       "152   NaN   NaN        S        0            0      1               1   \n",
       "\n",
       "     Rich_Companion_Live  \n",
       "152                    0  "
      ]
     },
     "execution_count": 39,
     "metadata": {},
     "output_type": "execute_result"
    }
   ],
   "source": [
    "test[test[\"Fare\"].isna()]"
   ]
  },
  {
   "cell_type": "code",
   "execution_count": 40,
   "metadata": {},
   "outputs": [
    {
     "data": {
      "text/plain": [
       "Pclass\n",
       "1    94.280297\n",
       "2    22.202104\n",
       "3    12.459678\n",
       "Name: Fare, dtype: float64"
      ]
     },
     "execution_count": 40,
     "metadata": {},
     "output_type": "execute_result"
    }
   ],
   "source": [
    "test.groupby([\"Pclass\"])['Fare'].mean()"
   ]
  },
  {
   "cell_type": "code",
   "execution_count": 41,
   "metadata": {},
   "outputs": [],
   "source": [
    "for t in tables:\n",
    "    t.loc[t[\"Fare\"].isna() & t['Pclass'] == 1 ,\"Fare\"] = 94\n",
    "    t.loc[t[\"Fare\"].isna() & t['Pclass'] == 2 ,\"Fare\"] = 22\n",
    "    t.loc[t[\"Fare\"].isna() & t['Pclass'] == 3 ,\"Fare\"] = 12"
   ]
  },
  {
   "cell_type": "code",
   "execution_count": 42,
   "metadata": {},
   "outputs": [
    {
     "data": {
      "text/plain": [
       "[False, False, False]"
      ]
     },
     "execution_count": 42,
     "metadata": {},
     "output_type": "execute_result"
    }
   ],
   "source": [
    "[t.Fare.isna().any() for t in tables]"
   ]
  },
  {
   "cell_type": "code",
   "execution_count": 43,
   "metadata": {},
   "outputs": [],
   "source": [
    "def set_fare_range(data):\n",
    "    data['Fare_Range']=pd.qcut(data['Fare'],4)    \n",
    "    return data\n",
    "tables = [set_fare_range(t) for t in tables]"
   ]
  },
  {
   "cell_type": "code",
   "execution_count": 44,
   "metadata": {},
   "outputs": [
    {
     "data": {
      "text/html": [
       "<div>\n",
       "<style scoped>\n",
       "    .dataframe tbody tr th:only-of-type {\n",
       "        vertical-align: middle;\n",
       "    }\n",
       "\n",
       "    .dataframe tbody tr th {\n",
       "        vertical-align: top;\n",
       "    }\n",
       "\n",
       "    .dataframe thead th {\n",
       "        text-align: right;\n",
       "    }\n",
       "</style>\n",
       "<table border=\"1\" class=\"dataframe\">\n",
       "  <thead>\n",
       "    <tr style=\"text-align: right;\">\n",
       "      <th></th>\n",
       "      <th>Survived</th>\n",
       "    </tr>\n",
       "    <tr>\n",
       "      <th>Fare_Range</th>\n",
       "      <th></th>\n",
       "    </tr>\n",
       "  </thead>\n",
       "  <tbody>\n",
       "    <tr>\n",
       "      <th>(-0.001, 7.91]</th>\n",
       "      <td>0.197309</td>\n",
       "    </tr>\n",
       "    <tr>\n",
       "      <th>(7.91, 14.454]</th>\n",
       "      <td>0.303571</td>\n",
       "    </tr>\n",
       "    <tr>\n",
       "      <th>(14.454, 31.0]</th>\n",
       "      <td>0.454955</td>\n",
       "    </tr>\n",
       "    <tr>\n",
       "      <th>(31.0, 512.329]</th>\n",
       "      <td>0.581081</td>\n",
       "    </tr>\n",
       "  </tbody>\n",
       "</table>\n",
       "</div>"
      ],
      "text/plain": [
       "                 Survived\n",
       "Fare_Range               \n",
       "(-0.001, 7.91]   0.197309\n",
       "(7.91, 14.454]   0.303571\n",
       "(14.454, 31.0]   0.454955\n",
       "(31.0, 512.329]  0.581081"
      ]
     },
     "execution_count": 44,
     "metadata": {},
     "output_type": "execute_result"
    }
   ],
   "source": [
    "data.groupby(['Fare_Range'])['Survived'].mean().to_frame()"
   ]
  },
  {
   "cell_type": "markdown",
   "metadata": {},
   "source": [
    "**Separando Ticket por Categoria**"
   ]
  },
  {
   "cell_type": "code",
   "execution_count": 45,
   "metadata": {},
   "outputs": [],
   "source": [
    "def set_fare_category(data):\n",
    "    data['Fare_cat']=0     \n",
    "    data.loc[data['Fare']<=7.91,'Fare_cat']=1\n",
    "    data.loc[(data['Fare']>7.91)&(data['Fare']<=14.454),'Fare_cat']=2\n",
    "    data.loc[(data['Fare']>14.454)&(data['Fare']<=31),'Fare_cat']=3\n",
    "    data.loc[(data['Fare']>31)&(data['Fare']<=513),'Fare_cat']=4\n",
    "    return data\n",
    "tables = [set_fare_category(t) for t in tables]"
   ]
  },
  {
   "cell_type": "code",
   "execution_count": 46,
   "metadata": {},
   "outputs": [
    {
     "data": {
      "image/png": "[encoded data removed]",
      "text/plain": [
       "<Figure size 402.375x360 with 1 Axes>"
      ]
     },
     "metadata": {
      "needs_background": "light"
     },
     "output_type": "display_data"
    }
   ],
   "source": [
    "sns.factorplot('Fare_cat','Survived',data=data,hue='Sex')\n",
    "plt.show()"
   ]
  },
  {
   "cell_type": "markdown",
   "metadata": {},
   "source": [
    "**Separando idades por grupos**"
   ]
  },
  {
   "cell_type": "code",
   "execution_count": 47,
   "metadata": {},
   "outputs": [
    {
     "data": {
      "text/plain": [
       "80.0"
      ]
     },
     "execution_count": 47,
     "metadata": {},
     "output_type": "execute_result"
    }
   ],
   "source": [
    "data.Age.max()"
   ]
  },
  {
   "cell_type": "code",
   "execution_count": 48,
   "metadata": {},
   "outputs": [
    {
     "data": {
      "text/plain": [
       "0.42"
      ]
     },
     "execution_count": 48,
     "metadata": {},
     "output_type": "execute_result"
    }
   ],
   "source": [
    "data.Age.min()"
   ]
  },
  {
   "cell_type": "code",
   "execution_count": 49,
   "metadata": {},
   "outputs": [],
   "source": [
    "def set_age_band(data):     \n",
    "    data['Age_band']=0    \n",
    "    data.loc[data['Age']<=5,'Age_band'] = 0\n",
    "    data.loc[(data['Age']> 5)&(data['Age']<=15),'Age_band'] = 1\n",
    "    data.loc[(data['Age']>15)&(data['Age']<=20),'Age_band'] = 2\n",
    "    data.loc[(data['Age']>20)&(data['Age']<=30),'Age_band'] = 3\n",
    "    data.loc[(data['Age']>30)&(data['Age']<=40),'Age_band'] = 4\n",
    "    data.loc[(data['Age']>40)&(data['Age']<=50),'Age_band'] = 5\n",
    "    data.loc[data['Age']>50,'Age_band'] = 6\n",
    " \n",
    "    \n",
    "    return data\n",
    "tables=[set_age_band(t) for t in tables]\n"
   ]
  },
  {
   "cell_type": "code",
   "execution_count": 50,
   "metadata": {},
   "outputs": [
    {
     "data": {
      "text/html": [
       "<style  type=\"text/css\" >\n",
       "#T_29165_row0_col0{\n",
       "            background-color:  #ffff66;\n",
       "            color:  #000000;\n",
       "        }#T_29165_row1_col0{\n",
       "            background-color:  #e5f266;\n",
       "            color:  #000000;\n",
       "        }#T_29165_row2_col0{\n",
       "            background-color:  #399c66;\n",
       "            color:  #000000;\n",
       "        }#T_29165_row3_col0{\n",
       "            background-color:  #2f9766;\n",
       "            color:  #000000;\n",
       "        }#T_29165_row4_col0{\n",
       "            background-color:  #198c66;\n",
       "            color:  #000000;\n",
       "        }#T_29165_row5_col0{\n",
       "            background-color:  #098466;\n",
       "            color:  #f1f1f1;\n",
       "        }#T_29165_row6_col0{\n",
       "            background-color:  #008066;\n",
       "            color:  #f1f1f1;\n",
       "        }</style><table id=\"T_29165_\" ><thead>    <tr>        <th class=\"blank level0\" ></th>        <th class=\"col_heading level0 col0\" >Age_band</th>    </tr></thead><tbody>\n",
       "                <tr>\n",
       "                        <th id=\"T_29165_level0_row0\" class=\"row_heading level0 row0\" >4</th>\n",
       "                        <td id=\"T_29165_row0_col0\" class=\"data row0 col0\" >292</td>\n",
       "            </tr>\n",
       "            <tr>\n",
       "                        <th id=\"T_29165_level0_row1\" class=\"row_heading level0 row1\" >3</th>\n",
       "                        <td id=\"T_29165_row1_col0\" class=\"data row1 col0\" >266</td>\n",
       "            </tr>\n",
       "            <tr>\n",
       "                        <th id=\"T_29165_level0_row2\" class=\"row_heading level0 row2\" >2</th>\n",
       "                        <td id=\"T_29165_row2_col0\" class=\"data row2 col0\" >96</td>\n",
       "            </tr>\n",
       "            <tr>\n",
       "                        <th id=\"T_29165_level0_row3\" class=\"row_heading level0 row3\" >5</th>\n",
       "                        <td id=\"T_29165_row3_col0\" class=\"data row3 col0\" >86</td>\n",
       "            </tr>\n",
       "            <tr>\n",
       "                        <th id=\"T_29165_level0_row4\" class=\"row_heading level0 row4\" >6</th>\n",
       "                        <td id=\"T_29165_row4_col0\" class=\"data row4 col0\" >64</td>\n",
       "            </tr>\n",
       "            <tr>\n",
       "                        <th id=\"T_29165_level0_row5\" class=\"row_heading level0 row5\" >0</th>\n",
       "                        <td id=\"T_29165_row5_col0\" class=\"data row5 col0\" >48</td>\n",
       "            </tr>\n",
       "            <tr>\n",
       "                        <th id=\"T_29165_level0_row6\" class=\"row_heading level0 row6\" >1</th>\n",
       "                        <td id=\"T_29165_row6_col0\" class=\"data row6 col0\" >39</td>\n",
       "            </tr>\n",
       "    </tbody></table>"
      ],
      "text/plain": [
       "<pandas.io.formats.style.Styler at 0x7f093d18ca60>"
      ]
     },
     "execution_count": 50,
     "metadata": {},
     "output_type": "execute_result"
    }
   ],
   "source": [
    "tables[0]['Age_band'].value_counts().to_frame().style.background_gradient(cmap='summer')"
   ]
  },
  {
   "cell_type": "code",
   "execution_count": 51,
   "metadata": {},
   "outputs": [
    {
     "data": {
      "text/html": [
       "<style  type=\"text/css\" >\n",
       "#T_17900_row0_col0,#T_17900_row0_col1,#T_17900_row0_col4,#T_17900_row0_col6,#T_17900_row1_col3,#T_17900_row2_col0,#T_17900_row2_col3,#T_17900_row2_col4,#T_17900_row3_col6,#T_17900_row4_col3,#T_17900_row12_col5,#T_17900_row13_col2{\n",
       "            background-color:  #ffff66;\n",
       "            color:  #000000;\n",
       "        }#T_17900_row0_col2,#T_17900_row0_col5{\n",
       "            background-color:  #f7fb66;\n",
       "            color:  #000000;\n",
       "        }#T_17900_row0_col3,#T_17900_row2_col1,#T_17900_row2_col6,#T_17900_row5_col0,#T_17900_row6_col3,#T_17900_row8_col3,#T_17900_row10_col3,#T_17900_row11_col1,#T_17900_row11_col2,#T_17900_row12_col3,#T_17900_row13_col1,#T_17900_row13_col5{\n",
       "            background-color:  #fefe66;\n",
       "            color:  #000000;\n",
       "        }#T_17900_row1_col0,#T_17900_row3_col1,#T_17900_row4_col4,#T_17900_row5_col1,#T_17900_row10_col4,#T_17900_row13_col6{\n",
       "            background-color:  #fdfe66;\n",
       "            color:  #000000;\n",
       "        }#T_17900_row1_col1,#T_17900_row2_col5,#T_17900_row7_col2{\n",
       "            background-color:  #f2f866;\n",
       "            color:  #000000;\n",
       "        }#T_17900_row1_col2,#T_17900_row3_col0,#T_17900_row5_col6,#T_17900_row8_col4,#T_17900_row12_col4,#T_17900_row13_col4{\n",
       "            background-color:  #fbfd66;\n",
       "            color:  #000000;\n",
       "        }#T_17900_row1_col4,#T_17900_row4_col5{\n",
       "            background-color:  #eff766;\n",
       "            color:  #000000;\n",
       "        }#T_17900_row1_col5{\n",
       "            background-color:  #f0f866;\n",
       "            color:  #000000;\n",
       "        }#T_17900_row1_col6,#T_17900_row3_col2,#T_17900_row3_col3,#T_17900_row5_col2,#T_17900_row11_col5{\n",
       "            background-color:  #fcfe66;\n",
       "            color:  #000000;\n",
       "        }#T_17900_row2_col2,#T_17900_row10_col5{\n",
       "            background-color:  #f6fa66;\n",
       "            color:  #000000;\n",
       "        }#T_17900_row3_col4{\n",
       "            background-color:  #eaf466;\n",
       "            color:  #000000;\n",
       "        }#T_17900_row3_col5,#T_17900_row7_col1,#T_17900_row9_col1{\n",
       "            background-color:  #f8fc66;\n",
       "            color:  #000000;\n",
       "        }#T_17900_row4_col0,#T_17900_row11_col6,#T_17900_row12_col2{\n",
       "            background-color:  #fafc66;\n",
       "            color:  #000000;\n",
       "        }#T_17900_row4_col1,#T_17900_row9_col6{\n",
       "            background-color:  #ebf566;\n",
       "            color:  #000000;\n",
       "        }#T_17900_row4_col2,#T_17900_row7_col6{\n",
       "            background-color:  #e4f266;\n",
       "            color:  #000000;\n",
       "        }#T_17900_row4_col6,#T_17900_row9_col2,#T_17900_row10_col2{\n",
       "            background-color:  #f3f966;\n",
       "            color:  #000000;\n",
       "        }#T_17900_row5_col3{\n",
       "            background-color:  #e8f466;\n",
       "            color:  #000000;\n",
       "        }#T_17900_row5_col4,#T_17900_row8_col5{\n",
       "            background-color:  #e7f366;\n",
       "            color:  #000000;\n",
       "        }#T_17900_row5_col5,#T_17900_row7_col0{\n",
       "            background-color:  #eef666;\n",
       "            color:  #000000;\n",
       "        }#T_17900_row6_col0,#T_17900_row10_col1{\n",
       "            background-color:  #e6f266;\n",
       "            color:  #000000;\n",
       "        }#T_17900_row6_col1{\n",
       "            background-color:  #acd666;\n",
       "            color:  #000000;\n",
       "        }#T_17900_row6_col2,#T_17900_row7_col5{\n",
       "            background-color:  #c2e066;\n",
       "            color:  #000000;\n",
       "        }#T_17900_row6_col4{\n",
       "            background-color:  #f1f866;\n",
       "            color:  #000000;\n",
       "        }#T_17900_row6_col5,#T_17900_row7_col3{\n",
       "            background-color:  #c5e266;\n",
       "            color:  #000000;\n",
       "        }#T_17900_row6_col6{\n",
       "            background-color:  #d3e966;\n",
       "            color:  #000000;\n",
       "        }#T_17900_row7_col4{\n",
       "            background-color:  #a9d466;\n",
       "            color:  #000000;\n",
       "        }#T_17900_row8_col0{\n",
       "            background-color:  #c9e466;\n",
       "            color:  #000000;\n",
       "        }#T_17900_row8_col1{\n",
       "            background-color:  #bfdf66;\n",
       "            color:  #000000;\n",
       "        }#T_17900_row8_col2{\n",
       "            background-color:  #a2d066;\n",
       "            color:  #000000;\n",
       "        }#T_17900_row8_col6{\n",
       "            background-color:  #cce666;\n",
       "            color:  #000000;\n",
       "        }#T_17900_row9_col0{\n",
       "            background-color:  #e0f066;\n",
       "            color:  #000000;\n",
       "        }#T_17900_row9_col3{\n",
       "            background-color:  #b3d966;\n",
       "            color:  #000000;\n",
       "        }#T_17900_row9_col4{\n",
       "            background-color:  #d2e866;\n",
       "            color:  #000000;\n",
       "        }#T_17900_row9_col5,#T_17900_row11_col0{\n",
       "            background-color:  #edf666;\n",
       "            color:  #000000;\n",
       "        }#T_17900_row10_col0,#T_17900_row12_col0{\n",
       "            background-color:  #d6eb66;\n",
       "            color:  #000000;\n",
       "        }#T_17900_row10_col6,#T_17900_row13_col0{\n",
       "            background-color:  #f4fa66;\n",
       "            color:  #000000;\n",
       "        }#T_17900_row11_col3{\n",
       "            background-color:  #d8ec66;\n",
       "            color:  #000000;\n",
       "        }#T_17900_row11_col4{\n",
       "            background-color:  #e5f266;\n",
       "            color:  #000000;\n",
       "        }#T_17900_row12_col1{\n",
       "            background-color:  #e9f466;\n",
       "            color:  #000000;\n",
       "        }#T_17900_row12_col6{\n",
       "            background-color:  #f9fc66;\n",
       "            color:  #000000;\n",
       "        }#T_17900_row13_col3{\n",
       "            background-color:  #d1e866;\n",
       "            color:  #000000;\n",
       "        }#T_17900_row14_col0,#T_17900_row14_col1,#T_17900_row14_col2,#T_17900_row14_col3,#T_17900_row14_col4,#T_17900_row14_col5,#T_17900_row14_col6{\n",
       "            background-color:  #008066;\n",
       "            color:  #f1f1f1;\n",
       "        }</style><table id=\"T_17900_\" ><thead>    <tr>        <th class=\"blank\" ></th>        <th class=\"index_name level0\" >Sex</th>        <th class=\"col_heading level0 col0\" colspan=\"3\">0</th>        <th class=\"col_heading level0 col3\" colspan=\"3\">1</th>        <th class=\"col_heading level0 col6\" >All</th>    </tr>    <tr>        <th class=\"blank\" ></th>        <th class=\"index_name level1\" >Pclass</th>        <th class=\"col_heading level1 col0\" >1</th>        <th class=\"col_heading level1 col1\" >2</th>        <th class=\"col_heading level1 col2\" >3</th>        <th class=\"col_heading level1 col3\" >1</th>        <th class=\"col_heading level1 col4\" >2</th>        <th class=\"col_heading level1 col5\" >3</th>        <th class=\"col_heading level1 col6\" ></th>    </tr>    <tr>        <th class=\"index_name level0\" >Age_band</th>        <th class=\"index_name level1\" >Survived</th>        <th class=\"blank\" ></th>        <th class=\"blank\" ></th>        <th class=\"blank\" ></th>        <th class=\"blank\" ></th>        <th class=\"blank\" ></th>        <th class=\"blank\" ></th>        <th class=\"blank\" ></th>    </tr></thead><tbody>\n",
       "                <tr>\n",
       "                        <th id=\"T_17900_level0_row0\" class=\"row_heading level0 row0\" rowspan=\"2\">0</th>\n",
       "                        <th id=\"T_17900_level1_row0\" class=\"row_heading level1 row0\" >0</th>\n",
       "                        <td id=\"T_17900_row0_col0\" class=\"data row0 col0\" >0</td>\n",
       "                        <td id=\"T_17900_row0_col1\" class=\"data row0 col1\" >0</td>\n",
       "                        <td id=\"T_17900_row0_col2\" class=\"data row0 col2\" >16</td>\n",
       "                        <td id=\"T_17900_row0_col3\" class=\"data row0 col3\" >1</td>\n",
       "                        <td id=\"T_17900_row0_col4\" class=\"data row0 col4\" >0</td>\n",
       "                        <td id=\"T_17900_row0_col5\" class=\"data row0 col5\" >7</td>\n",
       "                        <td id=\"T_17900_row0_col6\" class=\"data row0 col6\" >24</td>\n",
       "            </tr>\n",
       "            <tr>\n",
       "                                <th id=\"T_17900_level1_row1\" class=\"row_heading level1 row1\" >1</th>\n",
       "                        <td id=\"T_17900_row1_col0\" class=\"data row1 col0\" >2</td>\n",
       "                        <td id=\"T_17900_row1_col1\" class=\"data row1 col1\" >9</td>\n",
       "                        <td id=\"T_17900_row1_col2\" class=\"data row1 col2\" >9</td>\n",
       "                        <td id=\"T_17900_row1_col3\" class=\"data row1 col3\" >0</td>\n",
       "                        <td id=\"T_17900_row1_col4\" class=\"data row1 col4\" >7</td>\n",
       "                        <td id=\"T_17900_row1_col5\" class=\"data row1 col5\" >13</td>\n",
       "                        <td id=\"T_17900_row1_col6\" class=\"data row1 col6\" >40</td>\n",
       "            </tr>\n",
       "            <tr>\n",
       "                        <th id=\"T_17900_level0_row2\" class=\"row_heading level0 row2\" rowspan=\"2\">1</th>\n",
       "                        <th id=\"T_17900_level1_row2\" class=\"row_heading level1 row2\" >0</th>\n",
       "                        <td id=\"T_17900_row2_col0\" class=\"data row2 col0\" >0</td>\n",
       "                        <td id=\"T_17900_row2_col1\" class=\"data row2 col1\" >1</td>\n",
       "                        <td id=\"T_17900_row2_col2\" class=\"data row2 col2\" >18</td>\n",
       "                        <td id=\"T_17900_row2_col3\" class=\"data row2 col3\" >0</td>\n",
       "                        <td id=\"T_17900_row2_col4\" class=\"data row2 col4\" >0</td>\n",
       "                        <td id=\"T_17900_row2_col5\" class=\"data row2 col5\" >11</td>\n",
       "                        <td id=\"T_17900_row2_col6\" class=\"data row2 col6\" >30</td>\n",
       "            </tr>\n",
       "            <tr>\n",
       "                                <th id=\"T_17900_level1_row3\" class=\"row_heading level1 row3\" >1</th>\n",
       "                        <td id=\"T_17900_row3_col0\" class=\"data row3 col0\" >3</td>\n",
       "                        <td id=\"T_17900_row3_col1\" class=\"data row3 col1\" >2</td>\n",
       "                        <td id=\"T_17900_row3_col2\" class=\"data row3 col2\" >7</td>\n",
       "                        <td id=\"T_17900_row3_col3\" class=\"data row3 col3\" >2</td>\n",
       "                        <td id=\"T_17900_row3_col4\" class=\"data row3 col4\" >9</td>\n",
       "                        <td id=\"T_17900_row3_col5\" class=\"data row3 col5\" >6</td>\n",
       "                        <td id=\"T_17900_row3_col6\" class=\"data row3 col6\" >29</td>\n",
       "            </tr>\n",
       "            <tr>\n",
       "                        <th id=\"T_17900_level0_row4\" class=\"row_heading level0 row4\" rowspan=\"2\">2</th>\n",
       "                        <th id=\"T_17900_level1_row4\" class=\"row_heading level1 row4\" >0</th>\n",
       "                        <td id=\"T_17900_row4_col0\" class=\"data row4 col0\" >4</td>\n",
       "                        <td id=\"T_17900_row4_col1\" class=\"data row4 col1\" >14</td>\n",
       "                        <td id=\"T_17900_row4_col2\" class=\"data row4 col2\" >52</td>\n",
       "                        <td id=\"T_17900_row4_col3\" class=\"data row4 col3\" >0</td>\n",
       "                        <td id=\"T_17900_row4_col4\" class=\"data row4 col4\" >1</td>\n",
       "                        <td id=\"T_17900_row4_col5\" class=\"data row4 col5\" >14</td>\n",
       "                        <td id=\"T_17900_row4_col6\" class=\"data row4 col6\" >85</td>\n",
       "            </tr>\n",
       "            <tr>\n",
       "                                <th id=\"T_17900_level1_row5\" class=\"row_heading level1 row5\" >1</th>\n",
       "                        <td id=\"T_17900_row5_col0\" class=\"data row5 col0\" >1</td>\n",
       "                        <td id=\"T_17900_row5_col1\" class=\"data row5 col1\" >2</td>\n",
       "                        <td id=\"T_17900_row5_col2\" class=\"data row5 col2\" >7</td>\n",
       "                        <td id=\"T_17900_row5_col3\" class=\"data row5 col3\" >13</td>\n",
       "                        <td id=\"T_17900_row5_col4\" class=\"data row5 col4\" >10</td>\n",
       "                        <td id=\"T_17900_row5_col5\" class=\"data row5 col5\" >15</td>\n",
       "                        <td id=\"T_17900_row5_col6\" class=\"data row5 col6\" >48</td>\n",
       "            </tr>\n",
       "            <tr>\n",
       "                        <th id=\"T_17900_level0_row6\" class=\"row_heading level0 row6\" rowspan=\"2\">3</th>\n",
       "                        <th id=\"T_17900_level1_row6\" class=\"row_heading level1 row6\" >0</th>\n",
       "                        <td id=\"T_17900_row6_col0\" class=\"data row6 col0\" >18</td>\n",
       "                        <td id=\"T_17900_row6_col1\" class=\"data row6 col1\" >56</td>\n",
       "                        <td id=\"T_17900_row6_col2\" class=\"data row6 col2\" >118</td>\n",
       "                        <td id=\"T_17900_row6_col3\" class=\"data row6 col3\" >1</td>\n",
       "                        <td id=\"T_17900_row6_col4\" class=\"data row6 col4\" >6</td>\n",
       "                        <td id=\"T_17900_row6_col5\" class=\"data row6 col5\" >49</td>\n",
       "                        <td id=\"T_17900_row6_col6\" class=\"data row6 col6\" >248</td>\n",
       "            </tr>\n",
       "            <tr>\n",
       "                                <th id=\"T_17900_level1_row7\" class=\"row_heading level1 row7\" >1</th>\n",
       "                        <td id=\"T_17900_row7_col0\" class=\"data row7 col0\" >12</td>\n",
       "                        <td id=\"T_17900_row7_col1\" class=\"data row7 col1\" >5</td>\n",
       "                        <td id=\"T_17900_row7_col2\" class=\"data row7 col2\" >26</td>\n",
       "                        <td id=\"T_17900_row7_col3\" class=\"data row7 col3\" >33</td>\n",
       "                        <td id=\"T_17900_row7_col4\" class=\"data row7 col4\" >36</td>\n",
       "                        <td id=\"T_17900_row7_col5\" class=\"data row7 col5\" >52</td>\n",
       "                        <td id=\"T_17900_row7_col6\" class=\"data row7 col6\" >164</td>\n",
       "            </tr>\n",
       "            <tr>\n",
       "                        <th id=\"T_17900_level0_row8\" class=\"row_heading level0 row8\" rowspan=\"2\">4</th>\n",
       "                        <th id=\"T_17900_level1_row8\" class=\"row_heading level1 row8\" >0</th>\n",
       "                        <td id=\"T_17900_row8_col0\" class=\"data row8 col0\" >38</td>\n",
       "                        <td id=\"T_17900_row8_col1\" class=\"data row8 col1\" >43</td>\n",
       "                        <td id=\"T_17900_row8_col2\" class=\"data row8 col2\" >180</td>\n",
       "                        <td id=\"T_17900_row8_col3\" class=\"data row8 col3\" >1</td>\n",
       "                        <td id=\"T_17900_row8_col4\" class=\"data row8 col4\" >2</td>\n",
       "                        <td id=\"T_17900_row8_col5\" class=\"data row8 col5\" >21</td>\n",
       "                        <td id=\"T_17900_row8_col6\" class=\"data row8 col6\" >285</td>\n",
       "            </tr>\n",
       "            <tr>\n",
       "                                <th id=\"T_17900_level1_row9\" class=\"row_heading level1 row9\" >1</th>\n",
       "                        <td id=\"T_17900_row9_col0\" class=\"data row9 col0\" >22</td>\n",
       "                        <td id=\"T_17900_row9_col1\" class=\"data row9 col1\" >5</td>\n",
       "                        <td id=\"T_17900_row9_col2\" class=\"data row9 col2\" >24</td>\n",
       "                        <td id=\"T_17900_row9_col3\" class=\"data row9 col3\" >43</td>\n",
       "                        <td id=\"T_17900_row9_col4\" class=\"data row9 col4\" >19</td>\n",
       "                        <td id=\"T_17900_row9_col5\" class=\"data row9 col5\" >16</td>\n",
       "                        <td id=\"T_17900_row9_col6\" class=\"data row9 col6\" >129</td>\n",
       "            </tr>\n",
       "            <tr>\n",
       "                        <th id=\"T_17900_level0_row10\" class=\"row_heading level0 row10\" rowspan=\"2\">5</th>\n",
       "                        <th id=\"T_17900_level1_row10\" class=\"row_heading level1 row10\" >0</th>\n",
       "                        <td id=\"T_17900_row10_col0\" class=\"data row10 col0\" >29</td>\n",
       "                        <td id=\"T_17900_row10_col1\" class=\"data row10 col1\" >17</td>\n",
       "                        <td id=\"T_17900_row10_col2\" class=\"data row10 col2\" >24</td>\n",
       "                        <td id=\"T_17900_row10_col3\" class=\"data row10 col3\" >1</td>\n",
       "                        <td id=\"T_17900_row10_col4\" class=\"data row10 col4\" >1</td>\n",
       "                        <td id=\"T_17900_row10_col5\" class=\"data row10 col5\" >8</td>\n",
       "                        <td id=\"T_17900_row10_col6\" class=\"data row10 col6\" >80</td>\n",
       "            </tr>\n",
       "            <tr>\n",
       "                                <th id=\"T_17900_level1_row11\" class=\"row_heading level1 row11\" >1</th>\n",
       "                        <td id=\"T_17900_row11_col0\" class=\"data row11 col0\" >13</td>\n",
       "                        <td id=\"T_17900_row11_col1\" class=\"data row11 col1\" >1</td>\n",
       "                        <td id=\"T_17900_row11_col2\" class=\"data row11 col2\" >2</td>\n",
       "                        <td id=\"T_17900_row11_col3\" class=\"data row11 col3\" >22</td>\n",
       "                        <td id=\"T_17900_row11_col4\" class=\"data row11 col4\" >11</td>\n",
       "                        <td id=\"T_17900_row11_col5\" class=\"data row11 col5\" >3</td>\n",
       "                        <td id=\"T_17900_row11_col6\" class=\"data row11 col6\" >52</td>\n",
       "            </tr>\n",
       "            <tr>\n",
       "                        <th id=\"T_17900_level0_row12\" class=\"row_heading level0 row12\" rowspan=\"2\">6</th>\n",
       "                        <th id=\"T_17900_level1_row12\" class=\"row_heading level1 row12\" >0</th>\n",
       "                        <td id=\"T_17900_row12_col0\" class=\"data row12 col0\" >29</td>\n",
       "                        <td id=\"T_17900_row12_col1\" class=\"data row12 col1\" >15</td>\n",
       "                        <td id=\"T_17900_row12_col2\" class=\"data row12 col2\" >10</td>\n",
       "                        <td id=\"T_17900_row12_col3\" class=\"data row12 col3\" >1</td>\n",
       "                        <td id=\"T_17900_row12_col4\" class=\"data row12 col4\" >2</td>\n",
       "                        <td id=\"T_17900_row12_col5\" class=\"data row12 col5\" >0</td>\n",
       "                        <td id=\"T_17900_row12_col6\" class=\"data row12 col6\" >57</td>\n",
       "            </tr>\n",
       "            <tr>\n",
       "                                <th id=\"T_17900_level1_row13\" class=\"row_heading level1 row13\" >1</th>\n",
       "                        <td id=\"T_17900_row13_col0\" class=\"data row13 col0\" >8</td>\n",
       "                        <td id=\"T_17900_row13_col1\" class=\"data row13 col1\" >1</td>\n",
       "                        <td id=\"T_17900_row13_col2\" class=\"data row13 col2\" >0</td>\n",
       "                        <td id=\"T_17900_row13_col3\" class=\"data row13 col3\" >26</td>\n",
       "                        <td id=\"T_17900_row13_col4\" class=\"data row13 col4\" >2</td>\n",
       "                        <td id=\"T_17900_row13_col5\" class=\"data row13 col5\" >1</td>\n",
       "                        <td id=\"T_17900_row13_col6\" class=\"data row13 col6\" >38</td>\n",
       "            </tr>\n",
       "            <tr>\n",
       "                        <th id=\"T_17900_level0_row14\" class=\"row_heading level0 row14\" >All</th>\n",
       "                        <th id=\"T_17900_level1_row14\" class=\"row_heading level1 row14\" ></th>\n",
       "                        <td id=\"T_17900_row14_col0\" class=\"data row14 col0\" >179</td>\n",
       "                        <td id=\"T_17900_row14_col1\" class=\"data row14 col1\" >171</td>\n",
       "                        <td id=\"T_17900_row14_col2\" class=\"data row14 col2\" >493</td>\n",
       "                        <td id=\"T_17900_row14_col3\" class=\"data row14 col3\" >144</td>\n",
       "                        <td id=\"T_17900_row14_col4\" class=\"data row14 col4\" >106</td>\n",
       "                        <td id=\"T_17900_row14_col5\" class=\"data row14 col5\" >216</td>\n",
       "                        <td id=\"T_17900_row14_col6\" class=\"data row14 col6\" >1309</td>\n",
       "            </tr>\n",
       "    </tbody></table>"
      ],
      "text/plain": [
       "<pandas.io.formats.style.Styler at 0x7f093d537520>"
      ]
     },
     "execution_count": 51,
     "metadata": {},
     "output_type": "execute_result"
    }
   ],
   "source": [
    "pd.crosstab([tables[1].Age_band,tables[1].Survived],[tables[1].Sex,tables[1].Pclass],margins=True).style.background_gradient(cmap='summer_r')"
   ]
  },
  {
   "cell_type": "code",
   "execution_count": 52,
   "metadata": {},
   "outputs": [],
   "source": [
    "def age_4_alone_die(data):\n",
    "    data['age_4_alone_die'] = 0   \n",
    "    data.loc[(data['Age_band'] == 4) & (data['Sex'] == 0) & (data['Pclass'] == 3),'age_4_alone_die']= 1\n",
    "    return data\n",
    "tables =[age_4_alone_die(t) for t in tables] "
   ]
  },
  {
   "cell_type": "code",
   "execution_count": 53,
   "metadata": {},
   "outputs": [],
   "source": [
    "def rich_woman_lives(data):\n",
    "    data['rich_woman_lives'] = 0   \n",
    "    data.loc[(data['Sex'] == 1) & (data['Pclass'] == 1),'rich_woman_lives']= 1\n",
    "    return data\n",
    "tables =[rich_woman_lives(t) for t in tables]"
   ]
  },
  {
   "cell_type": "code",
   "execution_count": 54,
   "metadata": {},
   "outputs": [],
   "source": [
    "# def family_band(data):\n",
    "#     data['family_band_A'] = 0   \n",
    "#     data['family_band_B'] = 0   \n",
    "#     data['family_band_C'] = 0       \n",
    "#     data.loc[(data['Family_Size'] >=1) & (data['Family_Size'] < 3) ,'family_band_A']= 1\n",
    "#     data.loc[(data['Family_Size'] >=3) & (data['Family_Size'] < 5),'family_band_B']= 1\n",
    "#     data.loc[(data['Family_Size'] >=5) & (data['Family_Size'] < 11),'family_band_C']= 1\n",
    "#     return data\n",
    "# tables =[family_band(t) for t in tables]\n"
   ]
  },
  {
   "cell_type": "code",
   "execution_count": 55,
   "metadata": {},
   "outputs": [
    {
     "data": {
      "text/plain": [
       "[None, None, None]"
      ]
     },
     "execution_count": 55,
     "metadata": {},
     "output_type": "execute_result"
    }
   ],
   "source": [
    "drops_list = ['Name','Age','Cabin','Ticket','Fare','Fare_Range','Initial','Embarked','Parch','SibSp']\n",
    "tables[0].drop(['PassengerId'],axis=1,inplace=True)\n",
    "[t.drop(drops_list,axis=1,inplace=True) for t in tables]"
   ]
  },
  {
   "cell_type": "code",
   "execution_count": 56,
   "metadata": {},
   "outputs": [],
   "source": [
    "tables[1].drop(['boat','home.dest','body'],axis=1,inplace=True)"
   ]
  },
  {
   "cell_type": "code",
   "execution_count": 57,
   "metadata": {},
   "outputs": [
    {
     "data": {
      "image/png": "[encoded data removed]",
      "text/plain": [
       "<Figure size 720x720 with 2 Axes>"
      ]
     },
     "metadata": {
      "needs_background": "light"
     },
     "output_type": "display_data"
    }
   ],
   "source": [
    "sns.heatmap(tables[0].corr(),annot=True,cmap='RdYlGn',linewidths=0.2) #data.corr()-->matriz de correlação\n",
    "fig=plt.gcf()\n",
    "fig.set_size_inches(10,10)\n",
    "plt.show()"
   ]
  },
  {
   "cell_type": "code",
   "execution_count": 58,
   "metadata": {},
   "outputs": [],
   "source": [
    "#importing all the required ML packages\n",
    "from sklearn.linear_model import LogisticRegression #logistic regression\n",
    "from sklearn import svm #support vector Machine\n",
    "from sklearn.ensemble import RandomForestClassifier #Random Forest\n",
    "from sklearn.neighbors import KNeighborsClassifier #KNN\n",
    "from sklearn.naive_bayes import GaussianNB #Naive bayes\n",
    "from sklearn.tree import DecisionTreeClassifier #Decision Tree\n",
    "from sklearn.model_selection import train_test_split #training and testing data split\n",
    "from sklearn import metrics #accuracy measure\n",
    "from sklearn.metrics import confusion_matrix #for confusion matrix"
   ]
  },
  {
   "cell_type": "code",
   "execution_count": 59,
   "metadata": {},
   "outputs": [],
   "source": [
    "train_split,test_split=train_test_split(tables[0],test_size=0.3,random_state=0,stratify=data['Survived'])\n",
    "train_X=train_split[train_split.columns[1:]]\n",
    "train_Y=train_split[train_split.columns[:1]]\n",
    "test_X=test_split[test_split.columns[1:]]\n",
    "test_Y=test_split[test_split.columns[:1]]\n",
    "X=tables[0][tables[0].columns[1:]]\n",
    "Y=tables[0]['Survived']"
   ]
  },
  {
   "cell_type": "markdown",
   "metadata": {},
   "source": [
    "**Testando alguns modelos**"
   ]
  },
  {
   "cell_type": "code",
   "execution_count": 60,
   "metadata": {},
   "outputs": [
    {
     "name": "stdout",
     "output_type": "stream",
     "text": [
      "Precisão RandomForestClassifier  0.825057295645531\n"
     ]
    }
   ],
   "source": [
    "model= model=RandomForestClassifier()\n",
    "model.fit(train_X,train_Y)\n",
    "prediction=model.predict(tables[1].drop(['Survived'],axis=1))\n",
    "print('Precisão RandomForestClassifier ',\n",
    "      metrics.accuracy_score(prediction,tables[1].Survived))"
   ]
  },
  {
   "cell_type": "code",
   "execution_count": 61,
   "metadata": {},
   "outputs": [
    {
     "name": "stdout",
     "output_type": "stream",
     "text": [
      "Precisão rbf SVM  0.8181818181818182\n"
     ]
    }
   ],
   "source": [
    "model=svm.SVC(kernel='rbf',C=1,gamma=0.1)\n",
    "model.fit(train_X,train_Y)\n",
    "prediction=model.predict(tables[1].drop(['Survived'],axis=1))\n",
    "print('Precisão rbf SVM ',\n",
    "      metrics.accuracy_score(prediction,tables[1].Survived))"
   ]
  },
  {
   "cell_type": "code",
   "execution_count": 62,
   "metadata": {},
   "outputs": [
    {
     "name": "stdout",
     "output_type": "stream",
     "text": [
      "Precisão KNN  0.8143621084797555\n"
     ]
    }
   ],
   "source": [
    "model=KNeighborsClassifier() \n",
    "model.fit(train_X,train_Y)\n",
    "prediction=model.predict(tables[1].drop(['Survived'],axis=1))\n",
    "print('Precisão KNN ',\n",
    "         metrics.accuracy_score(prediction,tables[1].Survived))"
   ]
  },
  {
   "cell_type": "code",
   "execution_count": 63,
   "metadata": {},
   "outputs": [
    {
     "name": "stdout",
     "output_type": "stream",
     "text": [
      "Precisão Logistic Regression  0.80061115355233\n"
     ]
    }
   ],
   "source": [
    "model = LogisticRegression()\n",
    "model.fit(train_X,train_Y)\n",
    "prediction=model.predict(tables[1].drop(['Survived'],axis=1))\n",
    "print('Precisão Logistic Regression ',\n",
    "        metrics.accuracy_score(prediction,tables[1].Survived))"
   ]
  },
  {
   "cell_type": "code",
   "execution_count": 64,
   "metadata": {},
   "outputs": [
    {
     "name": "stdout",
     "output_type": "stream",
     "text": [
      "Precisão Decision Tree  0.8181818181818182\n"
     ]
    }
   ],
   "source": [
    "model=DecisionTreeClassifier()\n",
    "model.fit(train_X,train_Y)\n",
    "prediction=model.predict(tables[1].drop(['Survived'],axis=1))\n",
    "print('Precisão Decision Tree ',\n",
    "      metrics.accuracy_score(prediction,tables[1].Survived))"
   ]
  },
  {
   "cell_type": "code",
   "execution_count": 65,
   "metadata": {},
   "outputs": [
    {
     "name": "stdout",
     "output_type": "stream",
     "text": [
      "Precisão linear SVM  0.7799847211611918\n"
     ]
    }
   ],
   "source": [
    "model=svm.SVC(kernel='linear',C=0.1,gamma=0.1)\n",
    "model.fit(train_X,train_Y)\n",
    "prediction=model.predict(tables[1].drop(['Survived'],axis=1))\n",
    "print('Precisão linear SVM ',\n",
    "        metrics.accuracy_score(prediction,tables[1].Survived))"
   ]
  },
  {
   "cell_type": "code",
   "execution_count": 66,
   "metadata": {},
   "outputs": [
    {
     "name": "stdout",
     "output_type": "stream",
     "text": [
      "Precisão NaiveBayes  0.7203972498090145\n"
     ]
    }
   ],
   "source": [
    "model=GaussianNB()\n",
    "model.fit(train_X,train_Y)\n",
    "prediction=model.predict(tables[1].drop(['Survived'],axis=1))\n",
    "print('Precisão NaiveBayes ',\n",
    "      metrics.accuracy_score(prediction,tables[1].Survived))"
   ]
  },
  {
   "cell_type": "code",
   "execution_count": 67,
   "metadata": {},
   "outputs": [],
   "source": [
    "# f,ax=plt.subplots(3,3,figsize=(12,10))\n",
    "# y_pred = cross_val_predict(svm.SVC(kernel='rbf'),X,Y,cv=10)\n",
    "# sns.heatmap(confusion_matrix(Y,y_pred),ax=ax[0,0],annot=True,fmt='2.0f')\n",
    "# ax[0,0].set_title('Matrix for rbf-SVM')\n",
    "# y_pred = cross_val_predict(svm.SVC(kernel='linear'),X,Y,cv=10)\n",
    "# sns.heatmap(confusion_matrix(Y,y_pred),ax=ax[0,1],annot=True,fmt='2.0f')\n",
    "# ax[0,1].set_title('Matrix for Linear-SVM')\n",
    "# y_pred = cross_val_predict(KNeighborsClassifier(n_neighbors=9),X,Y,cv=10)\n",
    "# sns.heatmap(confusion_matrix(Y,y_pred),ax=ax[0,2],annot=True,fmt='2.0f')\n",
    "# ax[0,2].set_title('Matrix for KNN')\n",
    "# y_pred = cross_val_predict(RandomForestClassifier(n_estimators=100),X,Y,cv=10)\n",
    "# sns.heatmap(confusion_matrix(Y,y_pred),ax=ax[1,0],annot=True,fmt='2.0f')\n",
    "# ax[1,0].set_title('Matrix for Random-Forests')\n",
    "# y_pred = cross_val_predict(LogisticRegression(),X,Y,cv=10)\n",
    "# sns.heatmap(confusion_matrix(Y,y_pred),ax=ax[1,1],annot=True,fmt='2.0f')\n",
    "# ax[1,1].set_title('Matrix for Logistic Regression')\n",
    "# y_pred = cross_val_predict(DecisionTreeClassifier(),X,Y,cv=10)\n",
    "# sns.heatmap(confusion_matrix(Y,y_pred),ax=ax[1,2],annot=True,fmt='2.0f')\n",
    "# ax[1,2].set_title('Matrix for Decision Tree')\n",
    "# y_pred = cross_val_predict(GaussianNB(),X,Y,cv=10)\n",
    "# sns.heatmap(confusion_matrix(Y,y_pred),ax=ax[2,0],annot=True,fmt='2.0f')\n",
    "# ax[2,0].set_title('Matrix for Naive Bayes')\n",
    "# plt.subplots_adjust(hspace=0.2,wspace=0.2)\n",
    "# plt.show()"
   ]
  },
  {
   "cell_type": "markdown",
   "metadata": {},
   "source": [
    "**GridSearchCV**"
   ]
  },
  {
   "cell_type": "code",
   "execution_count": 68,
   "metadata": {},
   "outputs": [],
   "source": [
    "#SVM\n",
    "from sklearn.model_selection import GridSearchCV\n",
    "best_estimators = []"
   ]
  },
  {
   "cell_type": "code",
   "execution_count": 69,
   "metadata": {},
   "outputs": [
    {
     "name": "stdout",
     "output_type": "stream",
     "text": [
      "0.8293766869625259\n",
      "RandomForestClassifier(max_depth=5, n_estimators=535, random_state=0)\n"
     ]
    }
   ],
   "source": [
    "#Random Florest\n",
    "n_estimators=range(500,600,5)\n",
    "max_depth = range(5,6)\n",
    "hyper={'max_depth':max_depth,'n_estimators':n_estimators}\n",
    "gd=GridSearchCV(estimator=RandomForestClassifier(random_state=0),param_grid=hyper,verbose=False,n_jobs=-1)\n",
    "gd.fit(X,Y)\n",
    "print(gd.best_score_)\n",
    "print(gd.best_estimator_)\n",
    "best_estimators.append((\"RFORTEST\",gd.best_estimator_))"
   ]
  },
  {
   "cell_type": "code",
   "execution_count": 70,
   "metadata": {},
   "outputs": [
    {
     "name": "stdout",
     "output_type": "stream",
     "text": [
      "Fitting 5 folds for each of 600 candidates, totalling 3000 fits\n",
      "0.8316427091833531\n",
      "SVC(C=0.4, degree=0, gamma=0.30000000000000004, probability=True)\n"
     ]
    }
   ],
   "source": [
    "#SVC\n",
    "C=list(np.arange(0,1,0.1))\n",
    "gamma= list(np.arange(0,1,0.1))\n",
    "degree = list(range(0,6)) \n",
    "hyper={'C':C,'gamma':gamma, 'degree':degree}\n",
    "gd=GridSearchCV(estimator=svm.SVC(kernel='rbf',probability=True),param_grid=hyper,verbose=1,n_jobs=-1)\n",
    "gd.fit(X,Y)\n",
    "print(gd.best_score_)\n",
    "print(gd.best_estimator_)\n",
    "best_estimators.append((\"SVM_rbf\",gd.best_estimator_))"
   ]
  },
  {
   "cell_type": "code",
   "execution_count": 71,
   "metadata": {},
   "outputs": [
    {
     "name": "stdout",
     "output_type": "stream",
     "text": [
      "0.8215617349821104\n",
      "KNeighborsClassifier(n_neighbors=21)\n"
     ]
    }
   ],
   "source": [
    "#KNN\n",
    "n_neighbors=range(0,30)\n",
    "weights = ['uniform','distance'] \n",
    "hyper={'n_neighbors':n_neighbors,'weights':weights}\n",
    "gd=GridSearchCV(estimator=KNeighborsClassifier(),param_grid=hyper,verbose=False,n_jobs=-1)\n",
    "gd.fit(X,Y)\n",
    "print(gd.best_score_)\n",
    "print(gd.best_estimator_)\n",
    "best_estimators.append((\"KNN\",gd.best_estimator_))"
   ]
  },
  {
   "cell_type": "code",
   "execution_count": 72,
   "metadata": {},
   "outputs": [],
   "source": [
    "#Xgboost\n",
    "# from sklearn.model_selection import GridSearchCV\n",
    "\n",
    "# import xgboost as xgb\n",
    "# XGBModel = xgb.sklearn.XGBModel\n",
    "\n",
    "# def XGBModel_score(y_true, y_pred):\n",
    "#     y_pred[y_pred<0.5] = 0\n",
    "#     y_pred[y_pred>=0.5] = 1\n",
    "#     return metrics.accuracy_score(y_pred,y_true)\n",
    "    \n",
    "# scorer = metrics.make_scorer(XGBModel_score)   \n",
    "# n_estimators = list(range(20))\n",
    "# max_depth = list(range(5))\n",
    " \n",
    "# hyper={'n_estimators':n_estimators,'max_depth':max_depth}    \n",
    "     \n",
    "# gd=GridSearchCV(estimator=xgb.sklearn.XGBModel( booster='gbtree'),param_grid=hyper,verbose=True,n_jobs=-1,scoring=scorer)\n",
    "# gd.fit(X,Y)\n",
    "# print(gd.best_score_)\n",
    "# print(gd.best_estimator_)\n",
    "\n"
   ]
  },
  {
   "cell_type": "code",
   "execution_count": 73,
   "metadata": {},
   "outputs": [
    {
     "name": "stdout",
     "output_type": "stream",
     "text": [
      "Fitting 5 folds for each of 840 candidates, totalling 4200 fits\n",
      "0.8338710689849979\n",
      "LGBMClassifier(learning_rate=0.4, n_estimators=14, num_leaves=4)\n"
     ]
    }
   ],
   "source": [
    "from lightgbm import LGBMClassifier\n",
    "num_leaves = range(1,7)\n",
    "n_estimators = range(1,15)\n",
    "learning_rate =list(np.arange(0,1,0.1))\n",
    "hyper={'num_leaves':num_leaves,'n_estimators':n_estimators,'learning_rate':learning_rate}\n",
    "def custom_score(y_true, y_pred):\n",
    "    y_pred[y_pred<0.5] = 0\n",
    "    y_pred[y_pred>=0.5] = 1\n",
    "    return metrics.accuracy_score(y_pred,y_true)\n",
    "    \n",
    "scorer = metrics.make_scorer(custom_score)  \n",
    "gd=GridSearchCV(estimator=LGBMClassifier(),param_grid=hyper,verbose=True)\n",
    "gd.fit(X,Y)\n",
    "print(gd.best_score_)\n",
    "print(gd.best_estimator_)\n",
    "best_estimators.append((\"LGBMClassifier\",gd.best_estimator_))"
   ]
  },
  {
   "cell_type": "code",
   "execution_count": 74,
   "metadata": {},
   "outputs": [],
   "source": [
    "# model = svm.SVC(kernel='rbf',C=0.8, degree=0, gamma=0.8)\n",
    "# # model = svm.SVC(kernel='linear',C=0.8, degree=0, gamma=0.8)\n",
    "# model.fit(X,Y)\n",
    "# prediction=model.predict(tables[1].drop(['Survived'],axis=1))\n",
    "# print('Precisão svm ', metrics.accuracy_score(prediction,tables[1].Survived))\n",
    "# test_frame = test.drop(\"PassengerId\",axis=1)\n",
    "# predict_test = model.predict(test_frame)\n",
    "# predict_test[predict_test<0.5] = 0\n",
    "# predict_test[predict_test>=0.5] = 1\n",
    "# pred=pd.DataFrame(predict_test,columns=[\"Survived\"])\n",
    "# #Output\n",
    "# outputdf=pd.concat([test[\"PassengerId\"],pred],axis=1)\n",
    "# outputdf['Survived'] = outputdf['Survived'].astype(int)\n",
    "# outputdf.to_csv(\"submission.csv\",index=False)"
   ]
  },
  {
   "cell_type": "markdown",
   "metadata": {},
   "source": [
    "Precisão svm  0.8326967150496563"
   ]
  },
  {
   "cell_type": "code",
   "execution_count": 75,
   "metadata": {},
   "outputs": [],
   "source": [
    "# model = svm.SVC(kernel='rbf',C=0.8, degree=0, gamma=0.8)\n",
    "# drop_list = [ 'Rich_Companion_Live', ]\n",
    "# X_important = X.copy().drop(drop_list,axis=1)\n",
    "# # X_important = X.copy()\n",
    "# model.fit(X_important,Y),\n",
    "# table_dropped = tables[1].drop(['Survived'],axis=1)\n",
    "# table_dropped = table_dropped.drop(drop_list,axis=1)\n",
    "# prediction=model.predict(table_dropped)\n",
    "# print('Precisão svm ', metrics.accuracy_score(prediction,tables[1].Survived))\n",
    "# test_frame = test.copy().drop(\"PassengerId\",axis=1)\n",
    "# test_frame= test_frame.drop(drop_list,axis=1)\n",
    "# predict_test = model.predict(test_frame)\n",
    "# predict_test[predict_test<0.5] = 0\n",
    "# predict_test[predict_test>=0.5] = 1\n",
    "# pred=pd.DataFrame(predict_test,columns=[\"Survived\"])\n",
    "# #Output\n",
    "# outputdf=pd.concat([test[\"PassengerId\"],pred],axis=1)\n",
    "# outputdf['Survived'] = outputdf['Survived'].astype(int)\n",
    "# outputdf.to_csv(\"submission.csv\",index=False)"
   ]
  },
  {
   "cell_type": "markdown",
   "metadata": {},
   "source": [
    "VotingClassifier"
   ]
  },
  {
   "cell_type": "code",
   "execution_count": 76,
   "metadata": {},
   "outputs": [],
   "source": [
    "from sklearn.ensemble import VotingClassifier"
   ]
  },
  {
   "cell_type": "code",
   "execution_count": 77,
   "metadata": {},
   "outputs": [
    {
     "name": "stdout",
     "output_type": "stream",
     "text": [
      "The accuracy for ensembled model is: 0.8395522388059702\n"
     ]
    }
   ],
   "source": [
    "ensemble=VotingClassifier(estimators=best_estimators,voting='soft').fit(train_X,train_Y)\n",
    "print('The accuracy for ensembled model is:',ensemble.score(test_X,test_Y))"
   ]
  },
  {
   "cell_type": "code",
   "execution_count": 81,
   "metadata": {},
   "outputs": [
    {
     "name": "stdout",
     "output_type": "stream",
     "text": [
      "Precisão svm  0.813598166539343\n"
     ]
    }
   ],
   "source": [
    "ensemble=VotingClassifier(estimators=best_estimators,voting='soft').fit(X,Y)\n",
    "\n",
    "prediction=ensemble.predict(tables[1].drop(['Survived'],axis=1))\n",
    "print('Precisão svm ', metrics.accuracy_score(prediction,tables[1].Survived))\n",
    "test_frame = test.drop(\"PassengerId\",axis=1)\n",
    "predict_test = ensemble.predict(test_frame)\n",
    "# predict_test[predict_test<0.5] = 0\n",
    "# predict_test[predict_test>=0.5] = 1\n",
    "pred=pd.DataFrame(predict_test,columns=[\"Survived\"])\n",
    "#Output\n",
    "outputdf=pd.concat([test[\"PassengerId\"],pred],axis=1)\n",
    "outputdf['Survived'] = outputdf['Survived'].astype(int)\n",
    "outputdf.to_csv(\"submission.csv\",index=False)"
   ]
  },
  {
   "cell_type": "code",
   "execution_count": null,
   "metadata": {},
   "outputs": [],
   "source": []
  }
 ],
 "metadata": {
  "kernelspec": {
   "display_name": "Python 3",
   "language": "python",
   "name": "python3"
  },
  "language_info": {
   "codemirror_mode": {
    "name": "ipython",
    "version": 3
   },
   "file_extension": ".py",
   "mimetype": "text/x-python",
   "name": "python",
   "nbconvert_exporter": "python",
   "pygments_lexer": "ipython3",
   "version": "3.8.5"
  }
 },
 "nbformat": 4,
 "nbformat_minor": 4
}
